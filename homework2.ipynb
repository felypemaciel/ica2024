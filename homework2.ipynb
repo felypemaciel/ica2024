{
 "cells": [
  {
   "cell_type": "markdown",
   "metadata": {},
   "source": [
    "Due to 20/01/2025"
   ]
  },
  {
   "cell_type": "markdown",
   "metadata": {},
   "source": [
    "The objective is to predict the energy consumption in the Wastewater Treatment Plant (WWTP)"
   ]
  },
  {
   "cell_type": "markdown",
   "metadata": {},
   "source": [
    "**Libraries**"
   ]
  },
  {
   "cell_type": "code",
   "execution_count": 19,
   "metadata": {},
   "outputs": [],
   "source": [
    "import pandas as pd\n",
    "import matplotlib.pyplot as plt\n",
    "import numpy as np\n",
    "import math\n",
    "from sklearn.model_selection import train_test_split"
   ]
  },
  {
   "cell_type": "markdown",
   "metadata": {},
   "source": [
    "**Data import**"
   ]
  },
  {
   "cell_type": "code",
   "execution_count": 20,
   "metadata": {},
   "outputs": [],
   "source": [
    "df = pd.read_csv('data-melbourne.csv')"
   ]
  },
  {
   "cell_type": "code",
   "execution_count": 21,
   "metadata": {},
   "outputs": [],
   "source": [
    "df = df.drop(['VG','TM', 'Tm', 'VM'], axis=1)"
   ]
  },
  {
   "cell_type": "code",
   "execution_count": 22,
   "metadata": {},
   "outputs": [],
   "source": [
    "df_normalised = df.copy()\n",
    "df_normalised = df_normalised.drop(['year', 'month', 'day'], axis=1)"
   ]
  },
  {
   "cell_type": "markdown",
   "metadata": {},
   "source": [
    "**Pre-processing**"
   ]
  },
  {
   "cell_type": "code",
   "execution_count": 23,
   "metadata": {},
   "outputs": [],
   "source": [
    "columns_to_plot = ['avg_outflow','avg_inflow','total_grid','Am','BOD','COD','TN','T','SLP','H','PP','VV','V']\n",
    "\n",
    "means = df[columns_to_plot].mean()\n",
    "stds = df[columns_to_plot].std()\n",
    "\n",
    "df_normalised[columns_to_plot] = (df[columns_to_plot] - means) / stds"
   ]
  },
  {
   "cell_type": "code",
   "execution_count": 24,
   "metadata": {},
   "outputs": [
    {
     "data": {
      "text/html": [
       "<div>\n",
       "<style scoped>\n",
       "    .dataframe tbody tr th:only-of-type {\n",
       "        vertical-align: middle;\n",
       "    }\n",
       "\n",
       "    .dataframe tbody tr th {\n",
       "        vertical-align: top;\n",
       "    }\n",
       "\n",
       "    .dataframe thead th {\n",
       "        text-align: right;\n",
       "    }\n",
       "</style>\n",
       "<table border=\"1\" class=\"dataframe\">\n",
       "  <thead>\n",
       "    <tr style=\"text-align: right;\">\n",
       "      <th></th>\n",
       "      <th>avg_outflow</th>\n",
       "      <th>avg_inflow</th>\n",
       "      <th>total_grid</th>\n",
       "      <th>Am</th>\n",
       "      <th>BOD</th>\n",
       "      <th>COD</th>\n",
       "      <th>TN</th>\n",
       "      <th>T</th>\n",
       "      <th>SLP</th>\n",
       "      <th>H</th>\n",
       "      <th>PP</th>\n",
       "      <th>VV</th>\n",
       "      <th>V</th>\n",
       "    </tr>\n",
       "  </thead>\n",
       "  <tbody>\n",
       "    <tr>\n",
       "      <th>0</th>\n",
       "      <td>-0.805359</td>\n",
       "      <td>-1.331870</td>\n",
       "      <td>-2.224505</td>\n",
       "      <td>-1.574715</td>\n",
       "      <td>-0.198401</td>\n",
       "      <td>-0.797436</td>\n",
       "      <td>-0.661643</td>\n",
       "      <td>0.789723</td>\n",
       "      <td>-0.060236</td>\n",
       "      <td>-0.520057</td>\n",
       "      <td>0.996165</td>\n",
       "      <td>0.05504</td>\n",
       "      <td>1.039293</td>\n",
       "    </tr>\n",
       "    <tr>\n",
       "      <th>1</th>\n",
       "      <td>-0.809428</td>\n",
       "      <td>-1.073462</td>\n",
       "      <td>-2.095295</td>\n",
       "      <td>-1.832394</td>\n",
       "      <td>-0.140259</td>\n",
       "      <td>-0.728668</td>\n",
       "      <td>-0.760214</td>\n",
       "      <td>0.382202</td>\n",
       "      <td>-0.060236</td>\n",
       "      <td>-0.038434</td>\n",
       "      <td>-0.166873</td>\n",
       "      <td>0.05504</td>\n",
       "      <td>-0.712176</td>\n",
       "    </tr>\n",
       "    <tr>\n",
       "      <th>2</th>\n",
       "      <td>-0.815939</td>\n",
       "      <td>-0.890076</td>\n",
       "      <td>-1.638490</td>\n",
       "      <td>0.357877</td>\n",
       "      <td>0.417906</td>\n",
       "      <td>-0.068496</td>\n",
       "      <td>0.498805</td>\n",
       "      <td>0.326631</td>\n",
       "      <td>-0.060236</td>\n",
       "      <td>-1.139286</td>\n",
       "      <td>0.024416</td>\n",
       "      <td>0.05504</td>\n",
       "      <td>1.739880</td>\n",
       "    </tr>\n",
       "    <tr>\n",
       "      <th>3</th>\n",
       "      <td>-0.815939</td>\n",
       "      <td>-0.800466</td>\n",
       "      <td>-1.514590</td>\n",
       "      <td>-0.415160</td>\n",
       "      <td>0.557448</td>\n",
       "      <td>0.027779</td>\n",
       "      <td>0.072597</td>\n",
       "      <td>-0.080890</td>\n",
       "      <td>-0.060236</td>\n",
       "      <td>-1.001679</td>\n",
       "      <td>-0.166873</td>\n",
       "      <td>0.05504</td>\n",
       "      <td>1.053304</td>\n",
       "    </tr>\n",
       "    <tr>\n",
       "      <th>4</th>\n",
       "      <td>-0.824891</td>\n",
       "      <td>-0.494822</td>\n",
       "      <td>-1.620390</td>\n",
       "      <td>0.873235</td>\n",
       "      <td>1.464467</td>\n",
       "      <td>1.169328</td>\n",
       "      <td>0.797877</td>\n",
       "      <td>-0.303175</td>\n",
       "      <td>-0.060236</td>\n",
       "      <td>0.099172</td>\n",
       "      <td>-0.166873</td>\n",
       "      <td>0.05504</td>\n",
       "      <td>0.156552</td>\n",
       "    </tr>\n",
       "  </tbody>\n",
       "</table>\n",
       "</div>"
      ],
      "text/plain": [
       "   avg_outflow  avg_inflow  total_grid        Am       BOD       COD  \\\n",
       "0    -0.805359   -1.331870   -2.224505 -1.574715 -0.198401 -0.797436   \n",
       "1    -0.809428   -1.073462   -2.095295 -1.832394 -0.140259 -0.728668   \n",
       "2    -0.815939   -0.890076   -1.638490  0.357877  0.417906 -0.068496   \n",
       "3    -0.815939   -0.800466   -1.514590 -0.415160  0.557448  0.027779   \n",
       "4    -0.824891   -0.494822   -1.620390  0.873235  1.464467  1.169328   \n",
       "\n",
       "         TN         T       SLP         H        PP       VV         V  \n",
       "0 -0.661643  0.789723 -0.060236 -0.520057  0.996165  0.05504  1.039293  \n",
       "1 -0.760214  0.382202 -0.060236 -0.038434 -0.166873  0.05504 -0.712176  \n",
       "2  0.498805  0.326631 -0.060236 -1.139286  0.024416  0.05504  1.739880  \n",
       "3  0.072597 -0.080890 -0.060236 -1.001679 -0.166873  0.05504  1.053304  \n",
       "4  0.797877 -0.303175 -0.060236  0.099172 -0.166873  0.05504  0.156552  "
      ]
     },
     "execution_count": 24,
     "metadata": {},
     "output_type": "execute_result"
    }
   ],
   "source": [
    "df_normalised.head()"
   ]
  },
  {
   "cell_type": "markdown",
   "metadata": {},
   "source": [
    "##### **Model accuracy metrics**"
   ]
  },
  {
   "cell_type": "markdown",
   "metadata": {},
   "source": [
    "**Residual Sum of Squares**"
   ]
  },
  {
   "cell_type": "code",
   "execution_count": 25,
   "metadata": {},
   "outputs": [],
   "source": [
    "def calc_rss(y, y_pred):\n",
    "    rss = sum((y - y_pred)**2)\n",
    "    \n",
    "    return rss"
   ]
  },
  {
   "cell_type": "markdown",
   "metadata": {},
   "source": [
    "**Total Sum of Squares**"
   ]
  },
  {
   "cell_type": "code",
   "execution_count": 26,
   "metadata": {},
   "outputs": [],
   "source": [
    "def calc_tss(y):\n",
    "    n = len(y)\n",
    "    y_avg = sum(y)/n\n",
    "    tss = sum((y - y_avg)**2)\n",
    "\n",
    "    return tss"
   ]
  },
  {
   "cell_type": "markdown",
   "metadata": {},
   "source": [
    "**Root Mean Squared Error**"
   ]
  },
  {
   "cell_type": "code",
   "execution_count": 27,
   "metadata": {},
   "outputs": [],
   "source": [
    "def calc_rmse(y, y_pred):\n",
    "    n = len(y)\n",
    "    mse = (sum((y - y_pred)**2))/n\n",
    "    rmse = mse**(1/2)\n",
    "    \n",
    "    return rmse"
   ]
  },
  {
   "cell_type": "markdown",
   "metadata": {},
   "source": [
    "$\\mathbf{R^2}$"
   ]
  },
  {
   "cell_type": "code",
   "execution_count": 28,
   "metadata": {},
   "outputs": [],
   "source": [
    "def calc_r2(y, y_pred):\n",
    "    rss = calc_rss(y, y_pred)\n",
    "    tss = calc_tss(y)\n",
    "    r2 = 1 - (rss/tss)\n",
    "\n",
    "    return r2"
   ]
  },
  {
   "cell_type": "markdown",
   "metadata": {},
   "source": [
    "##### **Train and test datasets**"
   ]
  },
  {
   "cell_type": "code",
   "execution_count": 29,
   "metadata": {},
   "outputs": [],
   "source": [
    "X = df_normalised.copy()\n",
    "X = X.drop(['total_grid'], axis=1)\n",
    "\n",
    "y = df_normalised['total_grid']"
   ]
  },
  {
   "cell_type": "code",
   "execution_count": 30,
   "metadata": {},
   "outputs": [],
   "source": [
    "X.insert(0, 'intercept', 1)"
   ]
  },
  {
   "cell_type": "code",
   "execution_count": 31,
   "metadata": {},
   "outputs": [],
   "source": [
    "X_train, X_test, y_train, y_test = train_test_split(X, y, random_state=104, test_size=0.25, shuffle=True)"
   ]
  },
  {
   "cell_type": "markdown",
   "metadata": {},
   "source": [
    "### **Task 1 - Ordinary Linear Square (OLS) Regression**"
   ]
  },
  {
   "cell_type": "markdown",
   "metadata": {},
   "source": [
    "$Y = \\beta_0 + \\beta_1 X_1 + \\beta_2 X_2 + \\cdots + \\beta_p X_p + \\epsilon$"
   ]
  },
  {
   "cell_type": "markdown",
   "metadata": {},
   "source": [
    "$\\hat{y} = \\hat{\\beta_0} + \\hat{\\beta_1} x_1 + \\hat{\\beta_2} x_2 + \\cdots + \\hat{\\beta_p} x_p$"
   ]
  },
  {
   "cell_type": "markdown",
   "metadata": {},
   "source": [
    "$RSS = \\displaystyle \\sum_{i=1}^n (y_i - \\hat{y_i})^2 = \\sum_{i=1}^{n}(y_1 - \\hat{\\beta_0} - \\hat{\\beta_1}x_{i1} - \\hat{\\beta_2}x_{i2} - \\cdots - \\hat{\\beta_p}x_{ip})^2$"
   ]
  },
  {
   "cell_type": "markdown",
   "metadata": {},
   "source": [
    "$\\hat{\\beta} = (\\mathbf{X}^T X)^{-1} \\mathbf{X}^T y$"
   ]
  },
  {
   "cell_type": "markdown",
   "metadata": {},
   "source": [
    "#### **From scratch**"
   ]
  },
  {
   "cell_type": "code",
   "execution_count": 32,
   "metadata": {},
   "outputs": [],
   "source": [
    "def ica_linear_regression(X_train, y_train, X_test, y_test):\n",
    "    X_T = X_train.T\n",
    "    B = np.linalg.inv(X_T @ X_train) @ X_T @ y_train\n",
    "\n",
    "    y_pred = np.dot(X_test, B)\n",
    "\n",
    "    RMSE = calc_rmse(y_test, y_pred)\n",
    "    R2 = calc_r2(y_test, y_pred)\n",
    "\n",
    "    return RMSE, R2"
   ]
  },
  {
   "cell_type": "code",
   "execution_count": 33,
   "metadata": {},
   "outputs": [],
   "source": [
    "def ica_ridge_regression(L, X_train, y_train, X_test, y_test):\n",
    "    I = np.identity(X_train.shape[1])\n",
    "\n",
    "    X_T = X_train.T\n",
    "    B_ridge = np.linalg.inv(L*I + X_T @ X_train) @ X_T @ y_train\n",
    "\n",
    "    y_pred_ridge = np.dot(X_test, B_ridge)\n",
    "\n",
    "    RMSE = calc_rmse(y_test, y_pred_ridge)\n",
    "    R2 = calc_r2(y_test, y_pred_ridge)\n",
    "    \n",
    "\n",
    "    return RMSE, R2"
   ]
  },
  {
   "cell_type": "code",
   "execution_count": 37,
   "metadata": {},
   "outputs": [],
   "source": [
    "def ica_kfold_cross_validation(k, X_train, y_train, model, *L):\n",
    "    n_train = len(X_train)\n",
    "    fold_length = round(n_train/k)\n",
    "\n",
    "    indices = np.array(X_train.index)\n",
    "\n",
    "    k_rmse = np.zeros(k)\n",
    "    k_r2 = np.zeros(k)\n",
    "\n",
    "    for fold in range(k):\n",
    "        start_idx = fold* fold_length\n",
    "        end_idx = (fold + 1) * fold_length\n",
    "\n",
    "        validation_indices = indices[start_idx:end_idx]\n",
    "\n",
    "        train_indices = np.setdiff1d(indices, validation_indices)\n",
    "\n",
    "        X_train_fold = X_train.loc[train_indices]\n",
    "        X_val_fold = X_train.loc[validation_indices]\n",
    "\n",
    "        y_train_fold = y_train.loc[train_indices]\n",
    "        y_val_fold = y_train.loc[validation_indices]\n",
    "\n",
    "        if model=='linear_regression':\n",
    "\n",
    "            rmse, r2 = ica_linear_regression(X_train_fold, y_train_fold, X_val_fold, y_val_fold)\n",
    "\n",
    "        elif model=='ridge_regression':\n",
    "            rmse, r2 = ica_ridge_regression(L, X_train_fold, y_train_fold, X_val_fold, y_val_fold)\n",
    "\n",
    "        # print(str(fold+1)+\": RMSE = \" + str(rmse) + \" R2 = \" + str(r2))\n",
    "        k_rmse[fold] = rmse\n",
    "        k_r2[fold] = rmse\n",
    "\n",
    "    return k_rmse, k_r2"
   ]
  },
  {
   "cell_type": "markdown",
   "metadata": {},
   "source": [
    "##### **No Cross-Validation**"
   ]
  },
  {
   "cell_type": "code",
   "execution_count": 35,
   "metadata": {},
   "outputs": [
    {
     "name": "stdout",
     "output_type": "stream",
     "text": [
      "0.9336351884589535 0.18855335046047272\n"
     ]
    }
   ],
   "source": [
    "rmse, r2 = ica_linear_regression(X_train, y_train, X_test, y_test)\n",
    "print(rmse, r2)"
   ]
  },
  {
   "cell_type": "markdown",
   "metadata": {},
   "source": [
    "##### **5-fold Cross-validation**"
   ]
  },
  {
   "cell_type": "code",
   "execution_count": 38,
   "metadata": {},
   "outputs": [],
   "source": [
    "[rmse, r2] = ica_kfold_cross_validation(5, X_train, y_train, 'linear_regression')"
   ]
  },
  {
   "cell_type": "code",
   "execution_count": 39,
   "metadata": {},
   "outputs": [
    {
     "data": {
      "text/plain": [
       "array([1.00229634, 0.90955571, 0.98310124, 0.84422018, 0.93896511])"
      ]
     },
     "execution_count": 39,
     "metadata": {},
     "output_type": "execute_result"
    }
   ],
   "source": [
    "rmse"
   ]
  },
  {
   "cell_type": "code",
   "execution_count": 40,
   "metadata": {},
   "outputs": [],
   "source": [
    "k = 10\n",
    "n_train = len(X_train)\n",
    "fold_length = round(n_train/k)\n",
    "\n",
    "indices = np.array(X_train.index)"
   ]
  },
  {
   "cell_type": "code",
   "execution_count": 41,
   "metadata": {},
   "outputs": [
    {
     "name": "stdout",
     "output_type": "stream",
     "text": [
      "1: RMSE = 0.9901743769896688 R2 = 0.10392762829886826\n",
      "2: RMSE = 1.003746810611941 R2 = 0.06926612047053815\n",
      "3: RMSE = 0.995533188072315 R2 = -0.0474910390057508\n",
      "4: RMSE = 0.816358228445119 R2 = 0.18729686406020973\n",
      "5: RMSE = 1.0685705743466247 R2 = -0.01826629868179097\n",
      "6: RMSE = 0.890844963438425 R2 = 0.14961962883384405\n",
      "7: RMSE = 0.8780983645214064 R2 = 0.18853296543875664\n",
      "8: RMSE = 0.847641175334564 R2 = -0.0063802934513534915\n",
      "9: RMSE = 0.8102404014451663 R2 = 0.18374511723713205\n",
      "10: RMSE = 1.0123265909703858 R2 = 0.15061362529305045\n",
      "CV10=0.9639820261884274\n"
     ]
    }
   ],
   "source": [
    "mse = 0\n",
    "\n",
    "for fold in range(k):\n",
    "    start_idx = fold* fold_length\n",
    "    end_idx = (fold + 1) * fold_length\n",
    "\n",
    "    validation_indices = indices[start_idx:end_idx]\n",
    "\n",
    "    train_indices = np.setdiff1d(indices, validation_indices)\n",
    "\n",
    "    X_train_fold = X_train.loc[train_indices]\n",
    "    X_val_fold = X_train.loc[validation_indices]\n",
    "\n",
    "    y_train_fold = y_train.loc[train_indices]\n",
    "    y_val_fold = y_train.loc[validation_indices]\n",
    "\n",
    "    rmse, r2 = ica_linear_regression(X_train_fold, y_train_fold, X_val_fold, y_val_fold)\n",
    "    mse = mse + rmse**(1/2)\n",
    "\n",
    "    print(str(fold+1)+\": RMSE = \" + str(rmse) + \" R2 = \" + str(r2))\n",
    "\n",
    "CVk = mse/k\n",
    "\n",
    "print('CV'+str(k)+'='+str(CVk))"
   ]
  },
  {
   "cell_type": "markdown",
   "metadata": {},
   "source": [
    "#### **From libraries**"
   ]
  },
  {
   "cell_type": "markdown",
   "metadata": {},
   "source": [
    "##### **No Cross-validation**"
   ]
  },
  {
   "cell_type": "code",
   "execution_count": 42,
   "metadata": {},
   "outputs": [],
   "source": [
    "import statsmodels.api as sm"
   ]
  },
  {
   "cell_type": "code",
   "execution_count": 43,
   "metadata": {},
   "outputs": [],
   "source": [
    "model1 = sm.OLS(y, X)\n",
    "results1 = model1.fit()"
   ]
  },
  {
   "cell_type": "code",
   "execution_count": 44,
   "metadata": {},
   "outputs": [
    {
     "name": "stdout",
     "output_type": "stream",
     "text": [
      "0.1457347174635768\n"
     ]
    }
   ],
   "source": [
    "r_squared = results1.rsquared\n",
    "print(r_squared)"
   ]
  },
  {
   "cell_type": "markdown",
   "metadata": {},
   "source": [
    "##### **5-Fold Cross Validation**"
   ]
  },
  {
   "cell_type": "code",
   "execution_count": 45,
   "metadata": {},
   "outputs": [],
   "source": [
    "from sklearn.linear_model import LinearRegression\n",
    "from sklearn.model_selection import cross_val_score"
   ]
  },
  {
   "cell_type": "code",
   "execution_count": 46,
   "metadata": {},
   "outputs": [
    {
     "data": {
      "text/plain": [
       "array([0.0803197 , 0.07773138, 0.05651731, 0.13302242, 0.14036073])"
      ]
     },
     "execution_count": 46,
     "metadata": {},
     "output_type": "execute_result"
    }
   ],
   "source": [
    "lm = LinearRegression()\n",
    "scores = cross_val_score(lm, X_train, y_train, scoring='r2', cv=5)\n",
    "scores"
   ]
  },
  {
   "cell_type": "markdown",
   "metadata": {},
   "source": [
    "##### **10-Fold Cross-Validation**"
   ]
  },
  {
   "cell_type": "code",
   "execution_count": 47,
   "metadata": {},
   "outputs": [
    {
     "data": {
      "text/plain": [
       "array([ 0.10392763,  0.06926612, -0.04749104,  0.18729686, -0.0182663 ,\n",
       "        0.14961963,  0.18673633,  0.0300599 ,  0.12699538,  0.15005973])"
      ]
     },
     "execution_count": 47,
     "metadata": {},
     "output_type": "execute_result"
    }
   ],
   "source": [
    "scores = cross_val_score(lm, X_train, y_train, scoring='r2', cv=10)\n",
    "scores"
   ]
  },
  {
   "cell_type": "markdown",
   "metadata": {},
   "source": [
    "### **Task 2: Penalised Linear Regression**"
   ]
  },
  {
   "cell_type": "markdown",
   "metadata": {},
   "source": [
    "#### **From scratch**"
   ]
  },
  {
   "cell_type": "markdown",
   "metadata": {},
   "source": [
    "##### **Ridge Regression ($l_2$ penalty)**"
   ]
  },
  {
   "cell_type": "markdown",
   "metadata": {},
   "source": [
    "*(James, Gareth, et al. 2013)* The Ridge Regression coefficients estimates $\\hat{\\beta}^R$ are the values that minimize\n",
    "\n",
    "$\\displaystyle \\sum_{i=1}^n \\left( y_i - \\beta_0 - \\sum_{j=1}^{p} \\beta_j x_{ij} \\right)^2 + \\lambda \\sum_{j=1}^{p} \\beta_j^2 = RSS + \\lambda \\sum_{j=1}^p \\beta_j^2$"
   ]
  },
  {
   "cell_type": "markdown",
   "metadata": {},
   "source": [
    "*(Hastie et al. 2017)* The closed form of the Ridge Regression is given by\n",
    "\n",
    "$\\hat{\\mathbf{\\beta}}^{ridge} = (\\mathbf{X^T \\mathbf{X}} + \\lambda \\mathbf{I})^{-1}\\mathbf{X}^T \\mathbf{y}$"
   ]
  },
  {
   "cell_type": "code",
   "execution_count": 48,
   "metadata": {},
   "outputs": [],
   "source": [
    "L = np.arange(0,10,0.1)\n",
    "rmse_L = np.zeros(len(L))\n",
    "r2_L = np.zeros(len(L))\n",
    "\n",
    "for i in range(0,len(L)):\n",
    "    l = L[i]\n",
    "    RMSE, R2 = ica_ridge_regression(l, X_train, y_train, X_test, y_test)\n",
    "    rmse_L[i] = RMSE\n",
    "    r2_L[i] = R2"
   ]
  },
  {
   "cell_type": "code",
   "execution_count": 49,
   "metadata": {},
   "outputs": [
    {
     "name": "stderr",
     "output_type": "stream",
     "text": [
      "<>:4: SyntaxWarning: invalid escape sequence '\\l'\n",
      "<>:4: SyntaxWarning: invalid escape sequence '\\l'\n",
      "C:\\Users\\room2\\AppData\\Local\\Temp\\ipykernel_15380\\3390629931.py:4: SyntaxWarning: invalid escape sequence '\\l'\n",
      "  ax1.set_xlabel('$\\lambda$')\n"
     ]
    },
    {
     "data": {
      "text/plain": [
       "Text(0, 0.5, 'RMSE')"
      ]
     },
     "execution_count": 49,
     "metadata": {},
     "output_type": "execute_result"
    },
    {
     "data": {
      "image/png": "[encoded data removed]",
      "text/plain": [
       "<Figure size 1200x400 with 2 Axes>"
      ]
     },
     "metadata": {},
     "output_type": "display_data"
    }
   ],
   "source": [
    "fig, (ax1, ax2) = plt.subplots(1,2, figsize=(12,4))\n",
    "\n",
    "ax1.plot(L, rmse_L)\n",
    "ax1.set_xlabel('$\\lambda$')\n",
    "ax1.set_ylabel('RMSE')\n",
    "\n",
    "ax2.plot(r2_L, rmse_L)\n",
    "ax2.set_xlabel('$R^2$')\n",
    "ax2.set_ylabel('RMSE')\n"
   ]
  },
  {
   "cell_type": "markdown",
   "metadata": {},
   "source": [
    "##### **5-fold Cross Validation**"
   ]
  },
  {
   "cell_type": "code",
   "execution_count": 50,
   "metadata": {},
   "outputs": [],
   "source": [
    "L = np.arange(0,100,0.1)\n",
    "k = 5\n",
    "\n",
    "rmse_L_k5 = np.zeros((len(L)))\n",
    "\n",
    "for i in range(0,len(L)):\n",
    "    l = L[i]\n",
    "    rmse, r2 = ica_kfold_cross_validation(k, X_train, y_train, 'ridge_regression', l)\n",
    "    rmse_L_k5[i] = sum(rmse)/k"
   ]
  },
  {
   "cell_type": "code",
   "execution_count": 51,
   "metadata": {},
   "outputs": [
    {
     "name": "stderr",
     "output_type": "stream",
     "text": [
      "<>:2: SyntaxWarning: invalid escape sequence '\\l'\n",
      "<>:2: SyntaxWarning: invalid escape sequence '\\l'\n",
      "C:\\Users\\room2\\AppData\\Local\\Temp\\ipykernel_15380\\3722744685.py:2: SyntaxWarning: invalid escape sequence '\\l'\n",
      "  plt.xlabel('$\\lambda$')\n"
     ]
    },
    {
     "data": {
      "text/plain": [
       "<matplotlib.collections.PathCollection at 0x16e0a4f0740>"
      ]
     },
     "execution_count": 51,
     "metadata": {},
     "output_type": "execute_result"
    },
    {
     "data": {
      "image/png": "[encoded data removed]",
      "text/plain": [
       "<Figure size 640x480 with 1 Axes>"
      ]
     },
     "metadata": {},
     "output_type": "display_data"
    }
   ],
   "source": [
    "plt.plot(L, rmse_L_k5, zorder=1)\n",
    "plt.xlabel('$\\lambda$')\n",
    "plt.ylabel('RMSE')\n",
    "\n",
    "min_index = np.argmin(rmse_L_k5)\n",
    "lambda_min_k5 = L[min_index]\n",
    "rmse_min_k5 = rmse_L_k5[min_index]\n",
    "\n",
    "plt.scatter(lambda_min_k5, rmse_min_k5, color='red', zorder=2)"
   ]
  },
  {
   "cell_type": "markdown",
   "metadata": {},
   "source": [
    "##### **10-Fold Cross-Validation**"
   ]
  },
  {
   "cell_type": "code",
   "execution_count": 52,
   "metadata": {},
   "outputs": [],
   "source": [
    "L = np.arange(0,100,0.1)\n",
    "k = 10\n",
    "\n",
    "rmse_L_k10 = np.zeros((len(L)))\n",
    "\n",
    "for i in range(0,len(L)):\n",
    "    l = L[i]\n",
    "    rmse, r2 = ica_kfold_cross_validation(k, X_train, y_train, 'ridge_regression', l)\n",
    "    rmse_L_k10[i] = sum(rmse)/k"
   ]
  },
  {
   "cell_type": "code",
   "execution_count": 53,
   "metadata": {},
   "outputs": [
    {
     "name": "stderr",
     "output_type": "stream",
     "text": [
      "<>:8: SyntaxWarning: invalid escape sequence '\\l'\n",
      "<>:8: SyntaxWarning: invalid escape sequence '\\l'\n",
      "C:\\Users\\room2\\AppData\\Local\\Temp\\ipykernel_15380\\3245871270.py:8: SyntaxWarning: invalid escape sequence '\\l'\n",
      "  plt.xlabel('$\\lambda$')\n"
     ]
    },
    {
     "data": {
      "image/png": "[encoded data removed]",
      "text/plain": [
       "<Figure size 640x480 with 1 Axes>"
      ]
     },
     "metadata": {},
     "output_type": "display_data"
    }
   ],
   "source": [
    "plt.plot(L, rmse_L_k10, zorder=1)\n",
    "\n",
    "min_index = np.argmin(rmse_L_k10)\n",
    "lambda_min_k10 = L[min_index]\n",
    "rmse_min_k10 = rmse_L_k10[min_index]\n",
    "\n",
    "plt.scatter(lambda_min_k10, rmse_min_k10, color='red', zorder=2)\n",
    "plt.xlabel('$\\lambda$')\n",
    "plt.ylabel('RMSE')\n",
    "\n",
    "plt.show()"
   ]
  },
  {
   "cell_type": "markdown",
   "metadata": {},
   "source": [
    "##### **Lasso Regression ($l_1$ penalty)**"
   ]
  },
  {
   "cell_type": "markdown",
   "metadata": {},
   "source": [
    "(Jamie et al. 2013) The lasso coefficients $\\beta_{\\lambda}^L$, minimize the quantity\n",
    "\n",
    "$\\displaystyle \\sum_{i=1}^{n} \\left( y_i - \\beta_0 - \\sum_{j=1}^{p} \\beta_j x_{ij} \\right)^2 + \\lambda \\sum_{j=1}^p |\\beta_j| = RSS + \\lambda \\sum_{j=1}^p |\\beta_j|$"
   ]
  },
  {
   "cell_type": "markdown",
   "metadata": {},
   "source": [
    "(Hastie et al. 2017) We can write the residual sum of squares as\n",
    "\n",
    "$RSS(\\beta) = (\\mathbf{y} - \\mathbf{X}\\beta)^T(\\mathbf{y} - \\mathbf{X}\\beta)$\n",
    "\n",
    "Differentiating with respect to $\\beta$ we obtain\n",
    "\n",
    "$\\cfrac{\\partial RSS}{\\partial \\beta} = -2\\mathbf{X}^T(\\mathbf{y} - \\mathbf{X}\\beta)$"
   ]
  },
  {
   "cell_type": "markdown",
   "metadata": {},
   "source": [
    "For the absolute value function $f(\\beta) = |\\beta|$, we have\n",
    "\n",
    "$\\partial f(\\beta) =\n",
    "\\begin{cases}\n",
    "{+1} & \\text{if} \\beta > 0\\\\\n",
    "{-1} & \\text{if} \\beta < 0\\\\\n",
    "[-1,+1] & \\text{if} \\beta = 0.\n",
    "\\end{cases}$"
   ]
  },
  {
   "cell_type": "code",
   "execution_count": 68,
   "metadata": {},
   "outputs": [],
   "source": [
    "def gradient_descent_lasso(num_iterations, N, L, X_train, y_train):\n",
    "    for i in range(num_iterations):\n",
    "        n = X_train.shape[1]\n",
    "        B = np.zeros(n)\n",
    "        y_pred = X_train.dot(B)\n",
    "        dB = np.zeros(n)\n",
    "        for j in range(n):\n",
    "            if B[j] > 0:\n",
    "                dB[j] = -2*(X[:,j].dot(y_train - y_test))\n",
    "\n",
    "    return B"
   ]
  },
  {
   "cell_type": "code",
   "execution_count": 66,
   "metadata": {},
   "outputs": [],
   "source": [
    "num_iterations = 1000\n",
    "N = 0.01\n",
    "L = 1\n",
    "B0 = np.ones(X_train.shape[1])"
   ]
  },
  {
   "cell_type": "code",
   "execution_count": 54,
   "metadata": {},
   "outputs": [],
   "source": [
    "from scipy.optimize import minimize"
   ]
  },
  {
   "cell_type": "code",
   "execution_count": 60,
   "metadata": {},
   "outputs": [],
   "source": [
    "def lasso_regression(B, X_train, y_train, L):\n",
    "    rss = np.sum((y_train - (B[0] + np.dot(X_train, B[1:]))) ** 2)\n",
    "    l1_penalty = L * np.sum(np.abs(B[1:]))\n",
    "\n",
    "    total_loss = rss + l1_penalty\n",
    "    return total_loss"
   ]
  },
  {
   "cell_type": "code",
   "execution_count": 62,
   "metadata": {},
   "outputs": [
    {
     "name": "stderr",
     "output_type": "stream",
     "text": [
      "C:\\Users\\room2\\AppData\\Local\\Temp\\ipykernel_15380\\3140004214.py:2: RuntimeWarning: Maximum number of function evaluations has been exceeded.\n",
      "  res = minimize(lasso_regression, x0, method='nelder-mead', args=(X_train, y_train, 1), options={'xatol': 1e-8, 'disp':True})\n"
     ]
    }
   ],
   "source": [
    "x0 = np.ones(X_train.shape[1] + 1)\n",
    "res = minimize(lasso_regression, x0, method='nelder-mead', args=(X_train, y_train, 1), options={'xatol': 1e-8, 'disp':True})"
   ]
  },
  {
   "cell_type": "markdown",
   "metadata": {},
   "source": [
    "#### **From libraries**"
   ]
  },
  {
   "cell_type": "markdown",
   "metadata": {},
   "source": [
    "##### **Ridge Regression ($l_2$ penalty)**"
   ]
  },
  {
   "cell_type": "code",
   "execution_count": 321,
   "metadata": {},
   "outputs": [],
   "source": [
    "from sklearn.linear_model import Ridge"
   ]
  },
  {
   "cell_type": "code",
   "execution_count": 323,
   "metadata": {},
   "outputs": [],
   "source": [
    "ridgereg = Ridge(alpha=1.0)\n",
    "ridgereg.fit(X_train, y_train)\n",
    "y_pred_ridge = ridgereg.predict(X_test)\n"
   ]
  },
  {
   "cell_type": "code",
   "execution_count": 326,
   "metadata": {},
   "outputs": [
    {
     "data": {
      "text/plain": [
       "0.1885384276639649"
      ]
     },
     "execution_count": 326,
     "metadata": {},
     "output_type": "execute_result"
    }
   ],
   "source": [
    "calc_rmse(y_test, y_pred_ridge)\n",
    "calc_r2(y_test, y_pred_ridge)"
   ]
  },
  {
   "cell_type": "code",
   "execution_count": 331,
   "metadata": {},
   "outputs": [],
   "source": [
    "L = np.arange(0,10,0.1)\n",
    "rmse_L = np.zeros(len(L))\n",
    "r2_L = np.zeros(len(L))\n",
    "\n",
    "for i in range(0,len(L)):\n",
    "    l = L[i]\n",
    "    \n",
    "    ridgereg = Ridge(alpha=l)\n",
    "    ridgereg.fit(X_train, y_train)\n",
    "    y_pred_ridge = ridgereg.predict(X_test)\n",
    "    \n",
    "    rmse_L[i] = calc_rmse(y_test, y_pred_ridge)\n",
    "    r2_L[i] = calc_r2(y_test, y_pred_ridge)"
   ]
  },
  {
   "cell_type": "code",
   "execution_count": 332,
   "metadata": {},
   "outputs": [
    {
     "name": "stderr",
     "output_type": "stream",
     "text": [
      "<>:4: SyntaxWarning: invalid escape sequence '\\l'\n",
      "<>:4: SyntaxWarning: invalid escape sequence '\\l'\n",
      "C:\\Users\\room2\\AppData\\Local\\Temp\\ipykernel_14236\\1516381242.py:4: SyntaxWarning: invalid escape sequence '\\l'\n",
      "  ax1.set_xlabel('$\\lambda$')\n"
     ]
    },
    {
     "data": {
      "text/plain": [
       "Text(0, 0.5, 'RMSE')"
      ]
     },
     "execution_count": 332,
     "metadata": {},
     "output_type": "execute_result"
    },
    {
     "data": {
      "image/png": "[encoded data removed]",
      "text/plain": [
       "<Figure size 1200x400 with 2 Axes>"
      ]
     },
     "metadata": {},
     "output_type": "display_data"
    }
   ],
   "source": [
    "fig, (ax1, ax2) = plt.subplots(1,2, figsize=(12,4))\n",
    "\n",
    "ax1.plot(L, rmse_L)\n",
    "ax1.set_xlabel('$\\lambda$')\n",
    "ax1.set_ylabel('RMSE')\n",
    "\n",
    "ax2.plot(r2_L, rmse_L)\n",
    "ax2.set_xlabel('$R^2$')\n",
    "ax2.set_ylabel('RMSE')"
   ]
  },
  {
   "cell_type": "markdown",
   "metadata": {},
   "source": [
    "##### **5-Fold Cross-Validation**"
   ]
  },
  {
   "cell_type": "code",
   "execution_count": 354,
   "metadata": {},
   "outputs": [],
   "source": [
    "lm = LinearRegression()\n",
    "\n",
    "L = np.arange(0,100,0.1)\n",
    "k = 5\n",
    "\n",
    "rmse_L_k5 = np.zeros((len(L)))\n",
    "\n",
    "for i in range(0,len(L)):\n",
    "    l = L[i]\n",
    "\n",
    "    ridgereg = Ridge(alpha=l)\n",
    "\n",
    "    rmse = cross_val_score(ridgereg, X_train, y_train, scoring='neg_root_mean_squared_error', cv=k)\n",
    "    rmse_L_k5[i] = sum(rmse)/k"
   ]
  },
  {
   "cell_type": "code",
   "execution_count": 355,
   "metadata": {},
   "outputs": [
    {
     "name": "stderr",
     "output_type": "stream",
     "text": [
      "<>:2: SyntaxWarning: invalid escape sequence '\\l'\n",
      "<>:2: SyntaxWarning: invalid escape sequence '\\l'\n",
      "C:\\Users\\room2\\AppData\\Local\\Temp\\ipykernel_14236\\2351975880.py:2: SyntaxWarning: invalid escape sequence '\\l'\n",
      "  plt.xlabel('$\\lambda$')\n"
     ]
    },
    {
     "data": {
      "text/plain": [
       "<matplotlib.collections.PathCollection at 0x1b658e32f30>"
      ]
     },
     "execution_count": 355,
     "metadata": {},
     "output_type": "execute_result"
    },
    {
     "data": {
      "image/png": "[encoded data removed]",
      "text/plain": [
       "<Figure size 640x480 with 1 Axes>"
      ]
     },
     "metadata": {},
     "output_type": "display_data"
    }
   ],
   "source": [
    "plt.plot(L, -rmse_L_k5, zorder=1)\n",
    "plt.xlabel('$\\lambda$')\n",
    "plt.ylabel('RMSE')\n",
    "\n",
    "min_index = np.argmin(-rmse_L_k5)\n",
    "lambda_min_k5 = L[min_index]\n",
    "rmse_min_k5 = rmse_L_k5[min_index]\n",
    "\n",
    "plt.scatter(lambda_min_k5, -rmse_min_k5, color='red', zorder=2)"
   ]
  },
  {
   "cell_type": "markdown",
   "metadata": {},
   "source": [
    "##### **10-Fold Cross-Validation**"
   ]
  },
  {
   "cell_type": "code",
   "execution_count": 352,
   "metadata": {},
   "outputs": [],
   "source": [
    "lm = LinearRegression()\n",
    "\n",
    "L = np.arange(0,100,0.1)\n",
    "k = 10\n",
    "\n",
    "rmse_L_k10 = np.zeros((len(L)))\n",
    "\n",
    "for i in range(0,len(L)):\n",
    "    l = L[i]\n",
    "\n",
    "    ridgereg = Ridge(alpha=l)\n",
    "\n",
    "    rmse = cross_val_score(ridgereg, X_train, y_train, scoring='neg_root_mean_squared_error', cv=10)\n",
    "    rmse_L_k10[i] = sum(rmse)/k"
   ]
  },
  {
   "cell_type": "code",
   "execution_count": 353,
   "metadata": {},
   "outputs": [
    {
     "name": "stderr",
     "output_type": "stream",
     "text": [
      "<>:2: SyntaxWarning: invalid escape sequence '\\l'\n",
      "<>:2: SyntaxWarning: invalid escape sequence '\\l'\n",
      "C:\\Users\\room2\\AppData\\Local\\Temp\\ipykernel_14236\\1264941061.py:2: SyntaxWarning: invalid escape sequence '\\l'\n",
      "  plt.xlabel('$\\lambda$')\n"
     ]
    },
    {
     "data": {
      "text/plain": [
       "<matplotlib.collections.PathCollection at 0x1b658e84dd0>"
      ]
     },
     "execution_count": 353,
     "metadata": {},
     "output_type": "execute_result"
    },
    {
     "data": {
      "image/png": "[encoded data removed]",
      "text/plain": [
       "<Figure size 640x480 with 1 Axes>"
      ]
     },
     "metadata": {},
     "output_type": "display_data"
    }
   ],
   "source": [
    "plt.plot(L, -rmse_L_k10, zorder=1)\n",
    "plt.xlabel('$\\lambda$')\n",
    "plt.ylabel('RMSE')\n",
    "\n",
    "min_index = np.argmin(-rmse_L_k10)\n",
    "lambda_min_k10 = L[min_index]\n",
    "rmse_min_k10 = rmse_L_k10[min_index]\n",
    "\n",
    "plt.scatter(lambda_min_k10, -rmse_min_k10, color='red', zorder=2)"
   ]
  },
  {
   "cell_type": "markdown",
   "metadata": {},
   "source": [
    "##### **Lasso Regression ($l_2$ penalty)**"
   ]
  },
  {
   "cell_type": "markdown",
   "metadata": {},
   "source": [
    "### **Task 3: PCR and PLS Regression**"
   ]
  },
  {
   "cell_type": "markdown",
   "metadata": {},
   "source": []
  },
  {
   "cell_type": "markdown",
   "metadata": {},
   "source": [
    "### **Task 4: Neural Network for Regression**"
   ]
  },
  {
   "cell_type": "markdown",
   "metadata": {},
   "source": []
  },
  {
   "cell_type": "markdown",
   "metadata": {},
   "source": [
    "##### **References**\n",
    "\n",
    "James, Gareth, et al. *An introduction to statistical learning*. Vol. 112. New York: springer, 2013.\n",
    "\n",
    "Hastie, Trevor, Robert Tibshirani, and Jerome Friedman. *The elements of statistical learning: data mining, inference, and prediction*. (2017).\n",
    "\n",
    "Hastie, Trevor, Robert Tibshirani, and Martin Wainwright. \"Statistical learning with sparsity.\" Monographs on statistics and applied probability 143.143 (2015): 8."
   ]
  },
  {
   "cell_type": "code",
   "execution_count": null,
   "metadata": {},
   "outputs": [],
   "source": []
  },
  {
   "cell_type": "code",
   "execution_count": null,
   "metadata": {},
   "outputs": [],
   "source": []
  },
  {
   "cell_type": "markdown",
   "metadata": {},
   "source": []
  }
 ],
 "metadata": {
  "kernelspec": {
   "display_name": "Python 3",
   "language": "python",
   "name": "python3"
  },
  "language_info": {
   "codemirror_mode": {
    "name": "ipython",
    "version": 3
   },
   "file_extension": ".py",
   "mimetype": "text/x-python",
   "name": "python",
   "nbconvert_exporter": "python",
   "pygments_lexer": "ipython3",
   "version": "3.12.2"
  }
 },
 "nbformat": 4,
 "nbformat_minor": 2
}
