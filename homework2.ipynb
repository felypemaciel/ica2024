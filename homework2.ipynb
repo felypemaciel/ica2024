{
 "cells": [
  {
   "cell_type": "markdown",
   "metadata": {},
   "source": [
    "Due to 20/01/2025"
   ]
  },
  {
   "cell_type": "markdown",
   "metadata": {},
   "source": [
    "The objective is to predict the energy consumption in the Wastewater Treatment Plant (WWTP)"
   ]
  },
  {
   "cell_type": "markdown",
   "metadata": {},
   "source": [
    "**Libraries**"
   ]
  },
  {
   "cell_type": "code",
   "execution_count": 134,
   "metadata": {},
   "outputs": [],
   "source": [
    "import pandas as pd\n",
    "import matplotlib.pyplot as plt\n",
    "import numpy as np\n",
    "import math\n",
    "from sklearn.model_selection import train_test_split\n",
    "from scipy.optimize import minimize\n",
    "from scipy.stats import boxcox"
   ]
  },
  {
   "cell_type": "markdown",
   "metadata": {},
   "source": [
    "**Data import**"
   ]
  },
  {
   "cell_type": "code",
   "execution_count": 135,
   "metadata": {},
   "outputs": [],
   "source": [
    "df = pd.read_csv('data-melbourne.csv')"
   ]
  },
  {
   "cell_type": "markdown",
   "metadata": {},
   "source": [
    "**Pre-processing**"
   ]
  },
  {
   "cell_type": "markdown",
   "metadata": {},
   "source": [
    "Removing predictors with high correlation"
   ]
  },
  {
   "cell_type": "code",
   "execution_count": 136,
   "metadata": {},
   "outputs": [],
   "source": [
    "df = df.drop(['VG','TM', 'Tm', 'VM'], axis=1)"
   ]
  },
  {
   "cell_type": "markdown",
   "metadata": {},
   "source": [
    "Removing predictors with low information"
   ]
  },
  {
   "cell_type": "code",
   "execution_count": 137,
   "metadata": {},
   "outputs": [],
   "source": [
    "df = df.drop(['year', 'month', 'day','SLP','PP', 'VV'], axis=1)"
   ]
  },
  {
   "cell_type": "code",
   "execution_count": 138,
   "metadata": {},
   "outputs": [
    {
     "data": {
      "text/html": [
       "<div>\n",
       "<style scoped>\n",
       "    .dataframe tbody tr th:only-of-type {\n",
       "        vertical-align: middle;\n",
       "    }\n",
       "\n",
       "    .dataframe tbody tr th {\n",
       "        vertical-align: top;\n",
       "    }\n",
       "\n",
       "    .dataframe thead th {\n",
       "        text-align: right;\n",
       "    }\n",
       "</style>\n",
       "<table border=\"1\" class=\"dataframe\">\n",
       "  <thead>\n",
       "    <tr style=\"text-align: right;\">\n",
       "      <th></th>\n",
       "      <th>avg_outflow</th>\n",
       "      <th>avg_inflow</th>\n",
       "      <th>total_grid</th>\n",
       "      <th>Am</th>\n",
       "      <th>BOD</th>\n",
       "      <th>COD</th>\n",
       "      <th>TN</th>\n",
       "      <th>T</th>\n",
       "      <th>H</th>\n",
       "      <th>V</th>\n",
       "    </tr>\n",
       "  </thead>\n",
       "  <tbody>\n",
       "    <tr>\n",
       "      <th>0</th>\n",
       "      <td>2.941</td>\n",
       "      <td>2.589</td>\n",
       "      <td>175856</td>\n",
       "      <td>27.0</td>\n",
       "      <td>365.0</td>\n",
       "      <td>730.0</td>\n",
       "      <td>60.378</td>\n",
       "      <td>19.3</td>\n",
       "      <td>56</td>\n",
       "      <td>26.9</td>\n",
       "    </tr>\n",
       "    <tr>\n",
       "      <th>1</th>\n",
       "      <td>2.936</td>\n",
       "      <td>2.961</td>\n",
       "      <td>181624</td>\n",
       "      <td>25.0</td>\n",
       "      <td>370.0</td>\n",
       "      <td>740.0</td>\n",
       "      <td>60.026</td>\n",
       "      <td>17.1</td>\n",
       "      <td>63</td>\n",
       "      <td>14.4</td>\n",
       "    </tr>\n",
       "    <tr>\n",
       "      <th>2</th>\n",
       "      <td>2.928</td>\n",
       "      <td>3.225</td>\n",
       "      <td>202016</td>\n",
       "      <td>42.0</td>\n",
       "      <td>418.0</td>\n",
       "      <td>836.0</td>\n",
       "      <td>64.522</td>\n",
       "      <td>16.8</td>\n",
       "      <td>47</td>\n",
       "      <td>31.9</td>\n",
       "    </tr>\n",
       "    <tr>\n",
       "      <th>3</th>\n",
       "      <td>2.928</td>\n",
       "      <td>3.354</td>\n",
       "      <td>207547</td>\n",
       "      <td>36.0</td>\n",
       "      <td>430.0</td>\n",
       "      <td>850.0</td>\n",
       "      <td>63.000</td>\n",
       "      <td>14.6</td>\n",
       "      <td>49</td>\n",
       "      <td>27.0</td>\n",
       "    </tr>\n",
       "    <tr>\n",
       "      <th>4</th>\n",
       "      <td>2.917</td>\n",
       "      <td>3.794</td>\n",
       "      <td>202824</td>\n",
       "      <td>46.0</td>\n",
       "      <td>508.0</td>\n",
       "      <td>1016.0</td>\n",
       "      <td>65.590</td>\n",
       "      <td>13.4</td>\n",
       "      <td>65</td>\n",
       "      <td>20.6</td>\n",
       "    </tr>\n",
       "  </tbody>\n",
       "</table>\n",
       "</div>"
      ],
      "text/plain": [
       "   avg_outflow  avg_inflow  total_grid    Am    BOD     COD      TN     T   H  \\\n",
       "0        2.941       2.589      175856  27.0  365.0   730.0  60.378  19.3  56   \n",
       "1        2.936       2.961      181624  25.0  370.0   740.0  60.026  17.1  63   \n",
       "2        2.928       3.225      202016  42.0  418.0   836.0  64.522  16.8  47   \n",
       "3        2.928       3.354      207547  36.0  430.0   850.0  63.000  14.6  49   \n",
       "4        2.917       3.794      202824  46.0  508.0  1016.0  65.590  13.4  65   \n",
       "\n",
       "      V  \n",
       "0  26.9  \n",
       "1  14.4  \n",
       "2  31.9  \n",
       "3  27.0  \n",
       "4  20.6  "
      ]
     },
     "execution_count": 138,
     "metadata": {},
     "output_type": "execute_result"
    }
   ],
   "source": [
    "df.head()"
   ]
  },
  {
   "cell_type": "markdown",
   "metadata": {},
   "source": [
    "Solving skewness"
   ]
  },
  {
   "cell_type": "code",
   "execution_count": 139,
   "metadata": {},
   "outputs": [],
   "source": [
    "avg_inflow_bcx, lambda_avg_inflow = boxcox(df['avg_inflow'])"
   ]
  },
  {
   "cell_type": "code",
   "execution_count": 140,
   "metadata": {},
   "outputs": [],
   "source": [
    "df['avg_inflow'] = avg_inflow_bcx"
   ]
  },
  {
   "cell_type": "code",
   "execution_count": 141,
   "metadata": {},
   "outputs": [
    {
     "data": {
      "text/html": [
       "<div>\n",
       "<style scoped>\n",
       "    .dataframe tbody tr th:only-of-type {\n",
       "        vertical-align: middle;\n",
       "    }\n",
       "\n",
       "    .dataframe tbody tr th {\n",
       "        vertical-align: top;\n",
       "    }\n",
       "\n",
       "    .dataframe thead th {\n",
       "        text-align: right;\n",
       "    }\n",
       "</style>\n",
       "<table border=\"1\" class=\"dataframe\">\n",
       "  <thead>\n",
       "    <tr style=\"text-align: right;\">\n",
       "      <th></th>\n",
       "      <th>avg_outflow</th>\n",
       "      <th>avg_inflow</th>\n",
       "      <th>total_grid</th>\n",
       "      <th>Am</th>\n",
       "      <th>BOD</th>\n",
       "      <th>COD</th>\n",
       "      <th>TN</th>\n",
       "      <th>T</th>\n",
       "      <th>H</th>\n",
       "      <th>V</th>\n",
       "    </tr>\n",
       "  </thead>\n",
       "  <tbody>\n",
       "    <tr>\n",
       "      <th>0</th>\n",
       "      <td>2.941</td>\n",
       "      <td>0.461018</td>\n",
       "      <td>175856</td>\n",
       "      <td>27.0</td>\n",
       "      <td>365.0</td>\n",
       "      <td>730.0</td>\n",
       "      <td>60.378</td>\n",
       "      <td>19.3</td>\n",
       "      <td>56</td>\n",
       "      <td>26.9</td>\n",
       "    </tr>\n",
       "    <tr>\n",
       "      <th>1</th>\n",
       "      <td>2.936</td>\n",
       "      <td>0.483340</td>\n",
       "      <td>181624</td>\n",
       "      <td>25.0</td>\n",
       "      <td>370.0</td>\n",
       "      <td>740.0</td>\n",
       "      <td>60.026</td>\n",
       "      <td>17.1</td>\n",
       "      <td>63</td>\n",
       "      <td>14.4</td>\n",
       "    </tr>\n",
       "    <tr>\n",
       "      <th>2</th>\n",
       "      <td>2.928</td>\n",
       "      <td>0.495022</td>\n",
       "      <td>202016</td>\n",
       "      <td>42.0</td>\n",
       "      <td>418.0</td>\n",
       "      <td>836.0</td>\n",
       "      <td>64.522</td>\n",
       "      <td>16.8</td>\n",
       "      <td>47</td>\n",
       "      <td>31.9</td>\n",
       "    </tr>\n",
       "    <tr>\n",
       "      <th>3</th>\n",
       "      <td>2.928</td>\n",
       "      <td>0.499824</td>\n",
       "      <td>207547</td>\n",
       "      <td>36.0</td>\n",
       "      <td>430.0</td>\n",
       "      <td>850.0</td>\n",
       "      <td>63.000</td>\n",
       "      <td>14.6</td>\n",
       "      <td>49</td>\n",
       "      <td>27.0</td>\n",
       "    </tr>\n",
       "    <tr>\n",
       "      <th>4</th>\n",
       "      <td>2.917</td>\n",
       "      <td>0.512927</td>\n",
       "      <td>202824</td>\n",
       "      <td>46.0</td>\n",
       "      <td>508.0</td>\n",
       "      <td>1016.0</td>\n",
       "      <td>65.590</td>\n",
       "      <td>13.4</td>\n",
       "      <td>65</td>\n",
       "      <td>20.6</td>\n",
       "    </tr>\n",
       "  </tbody>\n",
       "</table>\n",
       "</div>"
      ],
      "text/plain": [
       "   avg_outflow  avg_inflow  total_grid    Am    BOD     COD      TN     T   H  \\\n",
       "0        2.941    0.461018      175856  27.0  365.0   730.0  60.378  19.3  56   \n",
       "1        2.936    0.483340      181624  25.0  370.0   740.0  60.026  17.1  63   \n",
       "2        2.928    0.495022      202016  42.0  418.0   836.0  64.522  16.8  47   \n",
       "3        2.928    0.499824      207547  36.0  430.0   850.0  63.000  14.6  49   \n",
       "4        2.917    0.512927      202824  46.0  508.0  1016.0  65.590  13.4  65   \n",
       "\n",
       "      V  \n",
       "0  26.9  \n",
       "1  14.4  \n",
       "2  31.9  \n",
       "3  27.0  \n",
       "4  20.6  "
      ]
     },
     "execution_count": 141,
     "metadata": {},
     "output_type": "execute_result"
    }
   ],
   "source": [
    "df.head()"
   ]
  },
  {
   "cell_type": "markdown",
   "metadata": {},
   "source": [
    "Centering and scaling predictors"
   ]
  },
  {
   "cell_type": "code",
   "execution_count": 142,
   "metadata": {},
   "outputs": [],
   "source": [
    "df_normalised = df.copy()"
   ]
  },
  {
   "cell_type": "code",
   "execution_count": 143,
   "metadata": {},
   "outputs": [],
   "source": [
    "columns_to_plot = ['avg_outflow','avg_inflow','Am','BOD','COD','TN','T','H','V']\n",
    "\n",
    "means = df[columns_to_plot].mean()\n",
    "stds = df[columns_to_plot].std()\n",
    "\n",
    "df_normalised[columns_to_plot] = (df[columns_to_plot] - means) / stds"
   ]
  },
  {
   "cell_type": "markdown",
   "metadata": {},
   "source": [
    "Changing Energy Consumption unit from kWh to MWh for readibility purposes"
   ]
  },
  {
   "cell_type": "code",
   "execution_count": 144,
   "metadata": {},
   "outputs": [],
   "source": [
    "df_normalised['total_grid'] = (df_normalised['total_grid']/1000)"
   ]
  },
  {
   "cell_type": "code",
   "execution_count": 145,
   "metadata": {},
   "outputs": [
    {
     "data": {
      "text/html": [
       "<div>\n",
       "<style scoped>\n",
       "    .dataframe tbody tr th:only-of-type {\n",
       "        vertical-align: middle;\n",
       "    }\n",
       "\n",
       "    .dataframe tbody tr th {\n",
       "        vertical-align: top;\n",
       "    }\n",
       "\n",
       "    .dataframe thead th {\n",
       "        text-align: right;\n",
       "    }\n",
       "</style>\n",
       "<table border=\"1\" class=\"dataframe\">\n",
       "  <thead>\n",
       "    <tr style=\"text-align: right;\">\n",
       "      <th></th>\n",
       "      <th>avg_outflow</th>\n",
       "      <th>avg_inflow</th>\n",
       "      <th>total_grid</th>\n",
       "      <th>Am</th>\n",
       "      <th>BOD</th>\n",
       "      <th>COD</th>\n",
       "      <th>TN</th>\n",
       "      <th>T</th>\n",
       "      <th>H</th>\n",
       "      <th>V</th>\n",
       "    </tr>\n",
       "  </thead>\n",
       "  <tbody>\n",
       "    <tr>\n",
       "      <th>0</th>\n",
       "      <td>-0.805359</td>\n",
       "      <td>-3.839535</td>\n",
       "      <td>175.856</td>\n",
       "      <td>-1.574715</td>\n",
       "      <td>-0.198401</td>\n",
       "      <td>-0.797436</td>\n",
       "      <td>-0.661643</td>\n",
       "      <td>0.789723</td>\n",
       "      <td>-0.520057</td>\n",
       "      <td>1.039293</td>\n",
       "    </tr>\n",
       "    <tr>\n",
       "      <th>1</th>\n",
       "      <td>-0.809428</td>\n",
       "      <td>-2.415153</td>\n",
       "      <td>181.624</td>\n",
       "      <td>-1.832394</td>\n",
       "      <td>-0.140259</td>\n",
       "      <td>-0.728668</td>\n",
       "      <td>-0.760214</td>\n",
       "      <td>0.382202</td>\n",
       "      <td>-0.038434</td>\n",
       "      <td>-0.712176</td>\n",
       "    </tr>\n",
       "    <tr>\n",
       "      <th>2</th>\n",
       "      <td>-0.815939</td>\n",
       "      <td>-1.669676</td>\n",
       "      <td>202.016</td>\n",
       "      <td>0.357877</td>\n",
       "      <td>0.417906</td>\n",
       "      <td>-0.068496</td>\n",
       "      <td>0.498805</td>\n",
       "      <td>0.326631</td>\n",
       "      <td>-1.139286</td>\n",
       "      <td>1.739880</td>\n",
       "    </tr>\n",
       "    <tr>\n",
       "      <th>3</th>\n",
       "      <td>-0.815939</td>\n",
       "      <td>-1.363199</td>\n",
       "      <td>207.547</td>\n",
       "      <td>-0.415160</td>\n",
       "      <td>0.557448</td>\n",
       "      <td>0.027779</td>\n",
       "      <td>0.072597</td>\n",
       "      <td>-0.080890</td>\n",
       "      <td>-1.001679</td>\n",
       "      <td>1.053304</td>\n",
       "    </tr>\n",
       "    <tr>\n",
       "      <th>4</th>\n",
       "      <td>-0.824891</td>\n",
       "      <td>-0.527106</td>\n",
       "      <td>202.824</td>\n",
       "      <td>0.873235</td>\n",
       "      <td>1.464467</td>\n",
       "      <td>1.169328</td>\n",
       "      <td>0.797877</td>\n",
       "      <td>-0.303175</td>\n",
       "      <td>0.099172</td>\n",
       "      <td>0.156552</td>\n",
       "    </tr>\n",
       "  </tbody>\n",
       "</table>\n",
       "</div>"
      ],
      "text/plain": [
       "   avg_outflow  avg_inflow  total_grid        Am       BOD       COD  \\\n",
       "0    -0.805359   -3.839535     175.856 -1.574715 -0.198401 -0.797436   \n",
       "1    -0.809428   -2.415153     181.624 -1.832394 -0.140259 -0.728668   \n",
       "2    -0.815939   -1.669676     202.016  0.357877  0.417906 -0.068496   \n",
       "3    -0.815939   -1.363199     207.547 -0.415160  0.557448  0.027779   \n",
       "4    -0.824891   -0.527106     202.824  0.873235  1.464467  1.169328   \n",
       "\n",
       "         TN         T         H         V  \n",
       "0 -0.661643  0.789723 -0.520057  1.039293  \n",
       "1 -0.760214  0.382202 -0.038434 -0.712176  \n",
       "2  0.498805  0.326631 -1.139286  1.739880  \n",
       "3  0.072597 -0.080890 -1.001679  1.053304  \n",
       "4  0.797877 -0.303175  0.099172  0.156552  "
      ]
     },
     "execution_count": 145,
     "metadata": {},
     "output_type": "execute_result"
    }
   ],
   "source": [
    "df_normalised.head()"
   ]
  },
  {
   "cell_type": "markdown",
   "metadata": {},
   "source": [
    "##### **Model accuracy metrics**"
   ]
  },
  {
   "cell_type": "markdown",
   "metadata": {},
   "source": [
    "**Residual Sum of Squares**"
   ]
  },
  {
   "cell_type": "code",
   "execution_count": 146,
   "metadata": {},
   "outputs": [],
   "source": [
    "def calc_rss(y, y_pred):\n",
    "    rss = sum((y - y_pred)**2)\n",
    "    \n",
    "    return rss"
   ]
  },
  {
   "cell_type": "markdown",
   "metadata": {},
   "source": [
    "**Total Sum of Squares**"
   ]
  },
  {
   "cell_type": "code",
   "execution_count": 147,
   "metadata": {},
   "outputs": [],
   "source": [
    "def calc_tss(y):\n",
    "    n = len(y)\n",
    "    y_avg = sum(y)/n\n",
    "    tss = sum((y - y_avg)**2)\n",
    "\n",
    "    return tss"
   ]
  },
  {
   "cell_type": "markdown",
   "metadata": {},
   "source": [
    "**Root Mean Squared Error**"
   ]
  },
  {
   "cell_type": "code",
   "execution_count": 148,
   "metadata": {},
   "outputs": [],
   "source": [
    "def calc_rmse(y, y_pred):\n",
    "    n = len(y)\n",
    "    mse = (sum((y - y_pred)**2))/n\n",
    "    rmse = mse**(1/2)\n",
    "    \n",
    "    return rmse"
   ]
  },
  {
   "cell_type": "markdown",
   "metadata": {},
   "source": [
    "$\\mathbf{R^2}$"
   ]
  },
  {
   "cell_type": "code",
   "execution_count": 149,
   "metadata": {},
   "outputs": [],
   "source": [
    "def calc_r2(y, y_pred):\n",
    "    rss = calc_rss(y, y_pred)\n",
    "    tss = calc_tss(y)\n",
    "    r2 = 1 - (rss/tss)\n",
    "\n",
    "    return r2"
   ]
  },
  {
   "cell_type": "markdown",
   "metadata": {},
   "source": [
    "##### **Train and test datasets**"
   ]
  },
  {
   "cell_type": "code",
   "execution_count": 150,
   "metadata": {},
   "outputs": [],
   "source": [
    "X = df_normalised.copy()\n",
    "X = X.drop(['total_grid'], axis=1)\n",
    "\n",
    "y = df_normalised['total_grid']"
   ]
  },
  {
   "cell_type": "code",
   "execution_count": 151,
   "metadata": {},
   "outputs": [],
   "source": [
    "X.insert(0, 'intercept', 1)"
   ]
  },
  {
   "cell_type": "code",
   "execution_count": 152,
   "metadata": {},
   "outputs": [],
   "source": [
    "X_train, X_test, y_train, y_test = train_test_split(X, y, random_state=104, test_size=0.25, shuffle=True)"
   ]
  },
  {
   "cell_type": "code",
   "execution_count": 204,
   "metadata": {},
   "outputs": [
    {
     "data": {
      "text/html": [
       "<div>\n",
       "<style scoped>\n",
       "    .dataframe tbody tr th:only-of-type {\n",
       "        vertical-align: middle;\n",
       "    }\n",
       "\n",
       "    .dataframe tbody tr th {\n",
       "        vertical-align: top;\n",
       "    }\n",
       "\n",
       "    .dataframe thead th {\n",
       "        text-align: right;\n",
       "    }\n",
       "</style>\n",
       "<table border=\"1\" class=\"dataframe\">\n",
       "  <thead>\n",
       "    <tr style=\"text-align: right;\">\n",
       "      <th></th>\n",
       "      <th>intercept</th>\n",
       "      <th>avg_outflow</th>\n",
       "      <th>avg_inflow</th>\n",
       "      <th>Am</th>\n",
       "      <th>BOD</th>\n",
       "      <th>COD</th>\n",
       "      <th>TN</th>\n",
       "      <th>T</th>\n",
       "      <th>H</th>\n",
       "      <th>V</th>\n",
       "    </tr>\n",
       "  </thead>\n",
       "  <tbody>\n",
       "    <tr>\n",
       "      <th>453</th>\n",
       "      <td>1</td>\n",
       "      <td>0.143551</td>\n",
       "      <td>-0.015941</td>\n",
       "      <td>-0.543999</td>\n",
       "      <td>0.528377</td>\n",
       "      <td>0.062163</td>\n",
       "      <td>0.276740</td>\n",
       "      <td>0.808247</td>\n",
       "      <td>-1.896121</td>\n",
       "      <td>-0.291824</td>\n",
       "    </tr>\n",
       "    <tr>\n",
       "      <th>549</th>\n",
       "      <td>1</td>\n",
       "      <td>-0.007819</td>\n",
       "      <td>0.285791</td>\n",
       "      <td>1.259753</td>\n",
       "      <td>1.255155</td>\n",
       "      <td>-0.453597</td>\n",
       "      <td>0.065037</td>\n",
       "      <td>1.030531</td>\n",
       "      <td>1.062417</td>\n",
       "      <td>-0.544035</td>\n",
       "    </tr>\n",
       "    <tr>\n",
       "      <th>905</th>\n",
       "      <td>1</td>\n",
       "      <td>-0.451349</td>\n",
       "      <td>0.140201</td>\n",
       "      <td>-0.415160</td>\n",
       "      <td>-1.070535</td>\n",
       "      <td>0.509155</td>\n",
       "      <td>-0.091501</td>\n",
       "      <td>-1.247883</td>\n",
       "      <td>1.062417</td>\n",
       "      <td>0.156552</td>\n",
       "    </tr>\n",
       "    <tr>\n",
       "      <th>781</th>\n",
       "      <td>1</td>\n",
       "      <td>2.437699</td>\n",
       "      <td>1.547994</td>\n",
       "      <td>2.032790</td>\n",
       "      <td>1.138870</td>\n",
       "      <td>3.122338</td>\n",
       "      <td>1.702377</td>\n",
       "      <td>1.438053</td>\n",
       "      <td>-0.588860</td>\n",
       "      <td>-0.319847</td>\n",
       "    </tr>\n",
       "    <tr>\n",
       "      <th>689</th>\n",
       "      <td>1</td>\n",
       "      <td>-0.369967</td>\n",
       "      <td>0.197488</td>\n",
       "      <td>-1.317036</td>\n",
       "      <td>-0.140259</td>\n",
       "      <td>-0.591132</td>\n",
       "      <td>-0.376572</td>\n",
       "      <td>-0.321698</td>\n",
       "      <td>0.030369</td>\n",
       "      <td>0.282658</td>\n",
       "    </tr>\n",
       "  </tbody>\n",
       "</table>\n",
       "</div>"
      ],
      "text/plain": [
       "     intercept  avg_outflow  avg_inflow        Am       BOD       COD  \\\n",
       "453          1     0.143551   -0.015941 -0.543999  0.528377  0.062163   \n",
       "549          1    -0.007819    0.285791  1.259753  1.255155 -0.453597   \n",
       "905          1    -0.451349    0.140201 -0.415160 -1.070535  0.509155   \n",
       "781          1     2.437699    1.547994  2.032790  1.138870  3.122338   \n",
       "689          1    -0.369967    0.197488 -1.317036 -0.140259 -0.591132   \n",
       "\n",
       "           TN         T         H         V  \n",
       "453  0.276740  0.808247 -1.896121 -0.291824  \n",
       "549  0.065037  1.030531  1.062417 -0.544035  \n",
       "905 -0.091501 -1.247883  1.062417  0.156552  \n",
       "781  1.702377  1.438053 -0.588860 -0.319847  \n",
       "689 -0.376572 -0.321698  0.030369  0.282658  "
      ]
     },
     "execution_count": 204,
     "metadata": {},
     "output_type": "execute_result"
    }
   ],
   "source": [
    "X_train.head()"
   ]
  },
  {
   "cell_type": "markdown",
   "metadata": {},
   "source": [
    "### **Task 1 - Ordinary Linear Square (OLS) Regression**"
   ]
  },
  {
   "cell_type": "markdown",
   "metadata": {},
   "source": [
    "$Y = \\beta_0 + \\beta_1 X_1 + \\beta_2 X_2 + \\cdots + \\beta_p X_p + \\epsilon$"
   ]
  },
  {
   "cell_type": "markdown",
   "metadata": {},
   "source": [
    "$\\hat{y} = \\hat{\\beta_0} + \\hat{\\beta_1} x_1 + \\hat{\\beta_2} x_2 + \\cdots + \\hat{\\beta_p} x_p$"
   ]
  },
  {
   "cell_type": "markdown",
   "metadata": {},
   "source": [
    "$RSS = \\displaystyle \\sum_{i=1}^n (y_i - \\hat{y_i})^2 = \\sum_{i=1}^{n}(y_1 - \\hat{\\beta_0} - \\hat{\\beta_1}x_{i1} - \\hat{\\beta_2}x_{i2} - \\cdots - \\hat{\\beta_p}x_{ip})^2$"
   ]
  },
  {
   "cell_type": "markdown",
   "metadata": {},
   "source": [
    "$\\hat{\\beta} = (\\mathbf{X}^T X)^{-1} \\mathbf{X}^T y$"
   ]
  },
  {
   "cell_type": "markdown",
   "metadata": {},
   "source": [
    "#### **From scratch**"
   ]
  },
  {
   "cell_type": "code",
   "execution_count": 153,
   "metadata": {},
   "outputs": [],
   "source": [
    "def ica_linear_regression(X_train, y_train, X_test, y_test):\n",
    "    X_T = X_train.T\n",
    "    B = np.linalg.inv(X_T @ X_train) @ X_T @ y_train\n",
    "\n",
    "    y_pred = np.dot(X_test, B)\n",
    "\n",
    "    RMSE = calc_rmse(y_test, y_pred)\n",
    "    R2 = calc_r2(y_test, y_pred)\n",
    "\n",
    "    return RMSE, R2"
   ]
  },
  {
   "cell_type": "code",
   "execution_count": 154,
   "metadata": {},
   "outputs": [],
   "source": [
    "def ica_ridge_regression(L, X_train, y_train, X_test, y_test):\n",
    "    I = np.identity(X_train.shape[1])\n",
    "\n",
    "    X_T = X_train.T\n",
    "    B_ridge = np.linalg.inv(L*I + X_T @ X_train) @ X_T @ y_train\n",
    "\n",
    "    y_pred_ridge = np.dot(X_test, B_ridge)\n",
    "\n",
    "    RMSE = calc_rmse(y_test, y_pred_ridge)\n",
    "    R2 = calc_r2(y_test, y_pred_ridge)\n",
    "    \n",
    "\n",
    "    return RMSE, R2, B_ridge"
   ]
  },
  {
   "cell_type": "code",
   "execution_count": 155,
   "metadata": {},
   "outputs": [],
   "source": [
    "def lasso_regression(B, X_train, y_train, L):\n",
    "    rss = np.sum((y_train - np.dot(X_train, B)) ** 2)\n",
    "    l1_penalty = L * np.sum(np.abs(B[1:]))\n",
    "\n",
    "    total_loss = rss + l1_penalty\n",
    "    return total_loss"
   ]
  },
  {
   "cell_type": "code",
   "execution_count": 156,
   "metadata": {},
   "outputs": [],
   "source": [
    "def ica_lasso_regression(B0, X_train, y_train, X_test, y_test, L):\n",
    "    x0 = np.zeros(X_train.shape[1])\n",
    "    res = minimize(lasso_regression, x0, args=(X_train, y_train, L))\n",
    "    B_lasso = res.x\n",
    "    \n",
    "    y_pred_lasso = np.dot(X_test, B_lasso)\n",
    "\n",
    "    RMSE = calc_rmse(y_test, y_pred_lasso)\n",
    "    R2 = calc_r2(y_test, y_pred_lasso)\n",
    "    \n",
    "    return RMSE, R2"
   ]
  },
  {
   "cell_type": "code",
   "execution_count": 157,
   "metadata": {},
   "outputs": [],
   "source": [
    "def ica_kfold_cross_validation(k, X_train, y_train, model, *args):\n",
    "    \n",
    "    n_train = len(X_train)\n",
    "    fold_length = round(n_train/k)\n",
    "\n",
    "    indices = np.array(X_train.index)\n",
    "\n",
    "    k_rmse = np.zeros(k)\n",
    "    k_r2 = np.zeros(k)\n",
    "\n",
    "    for fold in range(k):\n",
    "        start_idx = fold* fold_length\n",
    "        end_idx = (fold + 1) * fold_length\n",
    "\n",
    "        validation_indices = indices[start_idx:end_idx]\n",
    "\n",
    "        train_indices = np.setdiff1d(indices, validation_indices)\n",
    "\n",
    "        X_train_fold = X_train.loc[train_indices]\n",
    "        X_val_fold = X_train.loc[validation_indices]\n",
    "\n",
    "        y_train_fold = y_train.loc[train_indices]\n",
    "        y_val_fold = y_train.loc[validation_indices]\n",
    "\n",
    "        if model=='linear_regression':\n",
    "\n",
    "            rmse, r2 = ica_linear_regression(X_train_fold, y_train_fold, X_val_fold, y_val_fold)\n",
    "\n",
    "        elif model=='ridge_regression':\n",
    "            L = args[0]\n",
    "            rmse, r2, B_ridge = ica_ridge_regression(L, X_train_fold, y_train_fold, X_val_fold, y_val_fold)\n",
    "\n",
    "        elif model=='lasso_regression':\n",
    "            L = args[0]\n",
    "            B0 = args[1:]\n",
    "            rmse, r2 = ica_lasso_regression(B0, X_train, y_train, X_test, y_test, L)            \n",
    "\n",
    "        # print(str(fold+1)+\": RMSE = \" + str(rmse) + \" R2 = \" + str(r2))\n",
    "        k_rmse[fold] = rmse\n",
    "        k_r2[fold] = rmse\n",
    "\n",
    "    return k_rmse, k_r2"
   ]
  },
  {
   "cell_type": "markdown",
   "metadata": {},
   "source": [
    "##### **No Cross-Validation**"
   ]
  },
  {
   "cell_type": "code",
   "execution_count": 158,
   "metadata": {},
   "outputs": [
    {
     "name": "stdout",
     "output_type": "stream",
     "text": [
      "41.38177389113858 0.20004602917868375\n"
     ]
    }
   ],
   "source": [
    "rmse, r2 = ica_linear_regression(X_train, y_train, X_test, y_test)\n",
    "print(rmse, r2)"
   ]
  },
  {
   "cell_type": "markdown",
   "metadata": {},
   "source": [
    "##### **5-fold Cross-validation**"
   ]
  },
  {
   "cell_type": "code",
   "execution_count": 159,
   "metadata": {},
   "outputs": [],
   "source": [
    "l = 1\n",
    "B0 = np.zeros(X_train.shape[1])\n",
    "args = [l, B0]"
   ]
  },
  {
   "cell_type": "code",
   "execution_count": 160,
   "metadata": {},
   "outputs": [],
   "source": [
    "L = args[0]"
   ]
  },
  {
   "cell_type": "code",
   "execution_count": 161,
   "metadata": {},
   "outputs": [],
   "source": [
    "[rmse, r2] = ica_kfold_cross_validation(5, X_train, y_train, 'linear_regression')"
   ]
  },
  {
   "cell_type": "code",
   "execution_count": 162,
   "metadata": {},
   "outputs": [
    {
     "data": {
      "text/plain": [
       "array([44.68486659, 40.32304493, 43.60071932, 37.53653257, 41.35594515])"
      ]
     },
     "execution_count": 162,
     "metadata": {},
     "output_type": "execute_result"
    }
   ],
   "source": [
    "rmse"
   ]
  },
  {
   "cell_type": "code",
   "execution_count": 163,
   "metadata": {},
   "outputs": [],
   "source": [
    "k = 10\n",
    "n_train = len(X_train)\n",
    "fold_length = round(n_train/k)\n",
    "\n",
    "indices = np.array(X_train.index)"
   ]
  },
  {
   "cell_type": "code",
   "execution_count": 164,
   "metadata": {},
   "outputs": [
    {
     "name": "stdout",
     "output_type": "stream",
     "text": [
      "1: RMSE = 44.38880898829281 R2 = 0.09633398781368363\n",
      "2: RMSE = 44.66746005959482 R2 = 0.07508691066404671\n",
      "3: RMSE = 43.91760025652871 R2 = -0.02295676249778289\n",
      "4: RMSE = 36.35195713747361 R2 = 0.19133764627643857\n",
      "5: RMSE = 47.3952060503631 R2 = -0.005229034870105842\n",
      "6: RMSE = 39.4252346338882 R2 = 0.16420689067029726\n",
      "7: RMSE = 38.9663008299207 R2 = 0.19812966529324083\n",
      "8: RMSE = 38.04940563623172 R2 = -0.017595158648616938\n",
      "9: RMSE = 35.73434229684469 R2 = 0.20327061940711022\n",
      "10: RMSE = 44.791982046888926 R2 = 0.16553945846407914\n",
      "CV10=6.424674937377158\n"
     ]
    }
   ],
   "source": [
    "mse = 0\n",
    "\n",
    "for fold in range(k):\n",
    "    start_idx = fold* fold_length\n",
    "    end_idx = (fold + 1) * fold_length\n",
    "\n",
    "    validation_indices = indices[start_idx:end_idx]\n",
    "\n",
    "    train_indices = np.setdiff1d(indices, validation_indices)\n",
    "\n",
    "    X_train_fold = X_train.loc[train_indices]\n",
    "    X_val_fold = X_train.loc[validation_indices]\n",
    "\n",
    "    y_train_fold = y_train.loc[train_indices]\n",
    "    y_val_fold = y_train.loc[validation_indices]\n",
    "\n",
    "    rmse, r2 = ica_linear_regression(X_train_fold, y_train_fold, X_val_fold, y_val_fold)\n",
    "    mse = mse + rmse**(1/2)\n",
    "\n",
    "    print(str(fold+1)+\": RMSE = \" + str(rmse) + \" R2 = \" + str(r2))\n",
    "\n",
    "CVk = mse/k\n",
    "\n",
    "print('CV'+str(k)+'='+str(CVk))"
   ]
  },
  {
   "cell_type": "markdown",
   "metadata": {},
   "source": [
    "#### **From libraries**"
   ]
  },
  {
   "cell_type": "markdown",
   "metadata": {},
   "source": [
    "##### **No Cross-validation**"
   ]
  },
  {
   "cell_type": "code",
   "execution_count": 165,
   "metadata": {},
   "outputs": [],
   "source": [
    "import statsmodels.api as sm"
   ]
  },
  {
   "cell_type": "code",
   "execution_count": 166,
   "metadata": {},
   "outputs": [],
   "source": [
    "model1 = sm.OLS(y, X)\n",
    "results1 = model1.fit()"
   ]
  },
  {
   "cell_type": "code",
   "execution_count": 167,
   "metadata": {},
   "outputs": [
    {
     "name": "stdout",
     "output_type": "stream",
     "text": [
      "0.15238913564145884\n"
     ]
    }
   ],
   "source": [
    "r_squared = results1.rsquared\n",
    "print(r_squared)"
   ]
  },
  {
   "cell_type": "markdown",
   "metadata": {},
   "source": [
    "##### **5-Fold Cross Validation**"
   ]
  },
  {
   "cell_type": "code",
   "execution_count": 168,
   "metadata": {},
   "outputs": [],
   "source": [
    "from sklearn.linear_model import LinearRegression\n",
    "from sklearn.model_selection import cross_val_score"
   ]
  },
  {
   "cell_type": "code",
   "execution_count": 169,
   "metadata": {},
   "outputs": [
    {
     "data": {
      "text/plain": [
       "array([0.08322725, 0.09034178, 0.06817962, 0.14031992, 0.16548113])"
      ]
     },
     "execution_count": 169,
     "metadata": {},
     "output_type": "execute_result"
    }
   ],
   "source": [
    "lm = LinearRegression()\n",
    "scores = cross_val_score(lm, X_train, y_train, scoring='r2', cv=5)\n",
    "scores"
   ]
  },
  {
   "cell_type": "markdown",
   "metadata": {},
   "source": [
    "##### **10-Fold Cross-Validation**"
   ]
  },
  {
   "cell_type": "code",
   "execution_count": 170,
   "metadata": {},
   "outputs": [
    {
     "data": {
      "text/plain": [
       "array([ 0.09633399,  0.07508691, -0.02295676,  0.19133765, -0.00522903,\n",
       "        0.16420689,  0.19635857,  0.02931082,  0.13980995,  0.1635956 ])"
      ]
     },
     "execution_count": 170,
     "metadata": {},
     "output_type": "execute_result"
    }
   ],
   "source": [
    "scores = cross_val_score(lm, X_train, y_train, scoring='r2', cv=10)\n",
    "scores"
   ]
  },
  {
   "cell_type": "markdown",
   "metadata": {},
   "source": [
    "### **Task 2: Penalised Linear Regression**"
   ]
  },
  {
   "cell_type": "markdown",
   "metadata": {},
   "source": [
    "#### **From scratch**"
   ]
  },
  {
   "cell_type": "markdown",
   "metadata": {},
   "source": [
    "#### **Ridge Regression ($l_2$ penalty)**"
   ]
  },
  {
   "cell_type": "markdown",
   "metadata": {},
   "source": [
    "*(James, Gareth, et al. 2013)* The Ridge Regression coefficients estimates $\\hat{\\beta}^R$ are the values that minimize\n",
    "\n",
    "$\\displaystyle \\sum_{i=1}^n \\left( y_i - \\beta_0 - \\sum_{j=1}^{p} \\beta_j x_{ij} \\right)^2 + \\lambda \\sum_{j=1}^{p} \\beta_j^2 = RSS + \\lambda \\sum_{j=1}^p \\beta_j^2$"
   ]
  },
  {
   "cell_type": "markdown",
   "metadata": {},
   "source": [
    "*(Hastie et al. 2017)* The closed form of the Ridge Regression is given by\n",
    "\n",
    "$\\hat{\\mathbf{\\beta}}^{ridge} = (\\mathbf{X^T \\mathbf{X}} + \\lambda \\mathbf{I})^{-1}\\mathbf{X}^T \\mathbf{y}$"
   ]
  },
  {
   "cell_type": "code",
   "execution_count": 171,
   "metadata": {},
   "outputs": [
    {
     "name": "stdout",
     "output_type": "stream",
     "text": [
      "0    274.782846\n",
      "1      3.869159\n",
      "2      5.382914\n",
      "3     -3.168886\n",
      "4     -3.915698\n",
      "5      9.933615\n",
      "6     -7.092325\n",
      "7     -8.439752\n",
      "8      1.455405\n",
      "9      2.555014\n",
      "dtype: float64\n",
      "0    274.756287\n",
      "1      3.869062\n",
      "2      5.382715\n",
      "3     -3.168267\n",
      "4     -3.915784\n",
      "5      9.931391\n",
      "6     -7.090376\n",
      "7     -8.438527\n",
      "8      1.455689\n",
      "9      2.555580\n",
      "dtype: float64\n",
      "0    274.729732\n",
      "1      3.868966\n",
      "2      5.382515\n",
      "3     -3.167648\n",
      "4     -3.915871\n",
      "5      9.929167\n",
      "6     -7.088428\n",
      "7     -8.437302\n",
      "8      1.455973\n",
      "9      2.556146\n",
      "dtype: float64\n",
      "0    274.703183\n",
      "1      3.868869\n",
      "2      5.382316\n",
      "3     -3.167028\n",
      "4     -3.915957\n",
      "5      9.926945\n",
      "6     -7.086481\n",
      "7     -8.436078\n",
      "8      1.456257\n",
      "9      2.556711\n",
      "dtype: float64\n",
      "0    274.676639\n",
      "1      3.868772\n",
      "2      5.382116\n",
      "3     -3.166409\n",
      "4     -3.916044\n",
      "5      9.924723\n",
      "6     -7.084535\n",
      "7     -8.434854\n",
      "8      1.456540\n",
      "9      2.557276\n",
      "dtype: float64\n",
      "0    274.650100\n",
      "1      3.868675\n",
      "2      5.381917\n",
      "3     -3.165791\n",
      "4     -3.916130\n",
      "5      9.922503\n",
      "6     -7.082590\n",
      "7     -8.433630\n",
      "8      1.456824\n",
      "9      2.557841\n",
      "dtype: float64\n",
      "0    274.623566\n",
      "1      3.868579\n",
      "2      5.381717\n",
      "3     -3.165172\n",
      "4     -3.916216\n",
      "5      9.920285\n",
      "6     -7.080647\n",
      "7     -8.432407\n",
      "8      1.457107\n",
      "9      2.558405\n",
      "dtype: float64\n",
      "0    274.597037\n",
      "1      3.868482\n",
      "2      5.381518\n",
      "3     -3.164553\n",
      "4     -3.916302\n",
      "5      9.918067\n",
      "6     -7.078704\n",
      "7     -8.431183\n",
      "8      1.457389\n",
      "9      2.558969\n",
      "dtype: float64\n",
      "0    274.570514\n",
      "1      3.868385\n",
      "2      5.381318\n",
      "3     -3.163935\n",
      "4     -3.916388\n",
      "5      9.915851\n",
      "6     -7.076763\n",
      "7     -8.429960\n",
      "8      1.457672\n",
      "9      2.559533\n",
      "dtype: float64\n",
      "0    274.543996\n",
      "1      3.868288\n",
      "2      5.381118\n",
      "3     -3.163317\n",
      "4     -3.916474\n",
      "5      9.913635\n",
      "6     -7.074823\n",
      "7     -8.428738\n",
      "8      1.457954\n",
      "9      2.560096\n",
      "dtype: float64\n",
      "0    274.517482\n",
      "1      3.868192\n",
      "2      5.380919\n",
      "3     -3.162699\n",
      "4     -3.916560\n",
      "5      9.911421\n",
      "6     -7.072884\n",
      "7     -8.427515\n",
      "8      1.458236\n",
      "9      2.560659\n",
      "dtype: float64\n",
      "0    274.490974\n",
      "1      3.868095\n",
      "2      5.380719\n",
      "3     -3.162081\n",
      "4     -3.916645\n",
      "5      9.909209\n",
      "6     -7.070947\n",
      "7     -8.426293\n",
      "8      1.458518\n",
      "9      2.561222\n",
      "dtype: float64\n",
      "0    274.464471\n",
      "1      3.867998\n",
      "2      5.380519\n",
      "3     -3.161463\n",
      "4     -3.916731\n",
      "5      9.906997\n",
      "6     -7.069010\n",
      "7     -8.425071\n",
      "8      1.458799\n",
      "9      2.561784\n",
      "dtype: float64\n",
      "0    274.437973\n",
      "1      3.867901\n",
      "2      5.380319\n",
      "3     -3.160845\n",
      "4     -3.916817\n",
      "5      9.904787\n",
      "6     -7.067075\n",
      "7     -8.423849\n",
      "8      1.459080\n",
      "9      2.562346\n",
      "dtype: float64\n",
      "0    274.411480\n",
      "1      3.867805\n",
      "2      5.380120\n",
      "3     -3.160228\n",
      "4     -3.916902\n",
      "5      9.902577\n",
      "6     -7.065141\n",
      "7     -8.422628\n",
      "8      1.459361\n",
      "9      2.562908\n",
      "dtype: float64\n",
      "0    274.384993\n",
      "1      3.867708\n",
      "2      5.379920\n",
      "3     -3.159610\n",
      "4     -3.916988\n",
      "5      9.900369\n",
      "6     -7.063208\n",
      "7     -8.421407\n",
      "8      1.459642\n",
      "9      2.563469\n",
      "dtype: float64\n",
      "0    274.358510\n",
      "1      3.867611\n",
      "2      5.379720\n",
      "3     -3.158993\n",
      "4     -3.917073\n",
      "5      9.898162\n",
      "6     -7.061276\n",
      "7     -8.420186\n",
      "8      1.459922\n",
      "9      2.564030\n",
      "dtype: float64\n",
      "0    274.332032\n",
      "1      3.867514\n",
      "2      5.379520\n",
      "3     -3.158376\n",
      "4     -3.917158\n",
      "5      9.895957\n",
      "6     -7.059345\n",
      "7     -8.418965\n",
      "8      1.460203\n",
      "9      2.564590\n",
      "dtype: float64\n",
      "0    274.305560\n",
      "1      3.867417\n",
      "2      5.379320\n",
      "3     -3.157759\n",
      "4     -3.917243\n",
      "5      9.893752\n",
      "6     -7.057415\n",
      "7     -8.417745\n",
      "8      1.460483\n",
      "9      2.565151\n",
      "dtype: float64\n",
      "0    274.279093\n",
      "1      3.867320\n",
      "2      5.379120\n",
      "3     -3.157142\n",
      "4     -3.917329\n",
      "5      9.891549\n",
      "6     -7.055487\n",
      "7     -8.416525\n",
      "8      1.460762\n",
      "9      2.565711\n",
      "dtype: float64\n",
      "0    274.252631\n",
      "1      3.867224\n",
      "2      5.378919\n",
      "3     -3.156526\n",
      "4     -3.917414\n",
      "5      9.889347\n",
      "6     -7.053560\n",
      "7     -8.415305\n",
      "8      1.461042\n",
      "9      2.566270\n",
      "dtype: float64\n",
      "0    274.226174\n",
      "1      3.867127\n",
      "2      5.378719\n",
      "3     -3.155909\n",
      "4     -3.917499\n",
      "5      9.887146\n",
      "6     -7.051634\n",
      "7     -8.414086\n",
      "8      1.461321\n",
      "9      2.566829\n",
      "dtype: float64\n",
      "0    274.199722\n",
      "1      3.867030\n",
      "2      5.378519\n",
      "3     -3.155293\n",
      "4     -3.917583\n",
      "5      9.884946\n",
      "6     -7.049709\n",
      "7     -8.412866\n",
      "8      1.461600\n",
      "9      2.567388\n",
      "dtype: float64\n",
      "0    274.173275\n",
      "1      3.866933\n",
      "2      5.378319\n",
      "3     -3.154677\n",
      "4     -3.917668\n",
      "5      9.882747\n",
      "6     -7.047785\n",
      "7     -8.411647\n",
      "8      1.461878\n",
      "9      2.567947\n",
      "dtype: float64\n",
      "0    274.146833\n",
      "1      3.866836\n",
      "2      5.378119\n",
      "3     -3.154061\n",
      "4     -3.917753\n",
      "5      9.880550\n",
      "6     -7.045862\n",
      "7     -8.410428\n",
      "8      1.462157\n",
      "9      2.568505\n",
      "dtype: float64\n",
      "0    274.120397\n",
      "1      3.866739\n",
      "2      5.377918\n",
      "3     -3.153445\n",
      "4     -3.917837\n",
      "5      9.878354\n",
      "6     -7.043941\n",
      "7     -8.409210\n",
      "8      1.462435\n",
      "9      2.569063\n",
      "dtype: float64\n",
      "0    274.093965\n",
      "1      3.866643\n",
      "2      5.377718\n",
      "3     -3.152829\n",
      "4     -3.917922\n",
      "5      9.876159\n",
      "6     -7.042021\n",
      "7     -8.407992\n",
      "8      1.462713\n",
      "9      2.569620\n",
      "dtype: float64\n",
      "0    274.067539\n",
      "1      3.866546\n",
      "2      5.377518\n",
      "3     -3.152214\n",
      "4     -3.918006\n",
      "5      9.873965\n",
      "6     -7.040101\n",
      "7     -8.406774\n",
      "8      1.462990\n",
      "9      2.570178\n",
      "dtype: float64\n",
      "0    274.041117\n",
      "1      3.866449\n",
      "2      5.377317\n",
      "3     -3.151598\n",
      "4     -3.918091\n",
      "5      9.871772\n",
      "6     -7.038183\n",
      "7     -8.405556\n",
      "8      1.463268\n",
      "9      2.570734\n",
      "dtype: float64\n",
      "0    274.014701\n",
      "1      3.866352\n",
      "2      5.377117\n",
      "3     -3.150983\n",
      "4     -3.918175\n",
      "5      9.869581\n",
      "6     -7.036266\n",
      "7     -8.404339\n",
      "8      1.463545\n",
      "9      2.571291\n",
      "dtype: float64\n",
      "0    273.988290\n",
      "1      3.866255\n",
      "2      5.376916\n",
      "3     -3.150368\n",
      "4     -3.918259\n",
      "5      9.867390\n",
      "6     -7.034351\n",
      "7     -8.403121\n",
      "8      1.463822\n",
      "9      2.571847\n",
      "dtype: float64\n",
      "0    273.961884\n",
      "1      3.866158\n",
      "2      5.376716\n",
      "3     -3.149753\n",
      "4     -3.918343\n",
      "5      9.865201\n",
      "6     -7.032436\n",
      "7     -8.401904\n",
      "8      1.464099\n",
      "9      2.572403\n",
      "dtype: float64\n",
      "0    273.935483\n",
      "1      3.866061\n",
      "2      5.376515\n",
      "3     -3.149138\n",
      "4     -3.918428\n",
      "5      9.863013\n",
      "6     -7.030522\n",
      "7     -8.400688\n",
      "8      1.464375\n",
      "9      2.572959\n",
      "dtype: float64\n",
      "0    273.909087\n",
      "1      3.865964\n",
      "2      5.376314\n",
      "3     -3.148524\n",
      "4     -3.918512\n",
      "5      9.860826\n",
      "6     -7.028610\n",
      "7     -8.399471\n",
      "8      1.464651\n",
      "9      2.573514\n",
      "dtype: float64\n",
      "0    273.882697\n",
      "1      3.865868\n",
      "2      5.376114\n",
      "3     -3.147909\n",
      "4     -3.918595\n",
      "5      9.858641\n",
      "6     -7.026699\n",
      "7     -8.398255\n",
      "8      1.464927\n",
      "9      2.574069\n",
      "dtype: float64\n",
      "0    273.856311\n",
      "1      3.865771\n",
      "2      5.375913\n",
      "3     -3.147295\n",
      "4     -3.918679\n",
      "5      9.856456\n",
      "6     -7.024789\n",
      "7     -8.397039\n",
      "8      1.465203\n",
      "9      2.574623\n",
      "dtype: float64\n",
      "0    273.829930\n",
      "1      3.865674\n",
      "2      5.375712\n",
      "3     -3.146681\n",
      "4     -3.918763\n",
      "5      9.854273\n",
      "6     -7.022880\n",
      "7     -8.395824\n",
      "8      1.465478\n",
      "9      2.575177\n",
      "dtype: float64\n",
      "0    273.803555\n",
      "1      3.865577\n",
      "2      5.375512\n",
      "3     -3.146067\n",
      "4     -3.918847\n",
      "5      9.852091\n",
      "6     -7.020972\n",
      "7     -8.394608\n",
      "8      1.465753\n",
      "9      2.575731\n",
      "dtype: float64\n",
      "0    273.777185\n",
      "1      3.865480\n",
      "2      5.375311\n",
      "3     -3.145453\n",
      "4     -3.918930\n",
      "5      9.849910\n",
      "6     -7.019066\n",
      "7     -8.393393\n",
      "8      1.466028\n",
      "9      2.576284\n",
      "dtype: float64\n",
      "0    273.750819\n",
      "1      3.865383\n",
      "2      5.375110\n",
      "3     -3.144839\n",
      "4     -3.919014\n",
      "5      9.847730\n",
      "6     -7.017160\n",
      "7     -8.392179\n",
      "8      1.466303\n",
      "9      2.576838\n",
      "dtype: float64\n",
      "0    273.724459\n",
      "1      3.865286\n",
      "2      5.374909\n",
      "3     -3.144226\n",
      "4     -3.919097\n",
      "5      9.845551\n",
      "6     -7.015256\n",
      "7     -8.390964\n",
      "8      1.466577\n",
      "9      2.577390\n",
      "dtype: float64\n",
      "0    273.698104\n",
      "1      3.865189\n",
      "2      5.374708\n",
      "3     -3.143612\n",
      "4     -3.919180\n",
      "5      9.843374\n",
      "6     -7.013352\n",
      "7     -8.389750\n",
      "8      1.466851\n",
      "9      2.577943\n",
      "dtype: float64\n",
      "0    273.671754\n",
      "1      3.865092\n",
      "2      5.374507\n",
      "3     -3.142999\n",
      "4     -3.919264\n",
      "5      9.841197\n",
      "6     -7.011450\n",
      "7     -8.388536\n",
      "8      1.467125\n",
      "9      2.578495\n",
      "dtype: float64\n",
      "0    273.645409\n",
      "1      3.864995\n",
      "2      5.374306\n",
      "3     -3.142386\n",
      "4     -3.919347\n",
      "5      9.839022\n",
      "6     -7.009549\n",
      "7     -8.387322\n",
      "8      1.467398\n",
      "9      2.579047\n",
      "dtype: float64\n",
      "0    273.619069\n",
      "1      3.864898\n",
      "2      5.374105\n",
      "3     -3.141773\n",
      "4     -3.919430\n",
      "5      9.836848\n",
      "6     -7.007649\n",
      "7     -8.386109\n",
      "8      1.467672\n",
      "9      2.579598\n",
      "dtype: float64\n",
      "0    273.592734\n",
      "1      3.864801\n",
      "2      5.373904\n",
      "3     -3.141160\n",
      "4     -3.919513\n",
      "5      9.834675\n",
      "6     -7.005751\n",
      "7     -8.384895\n",
      "8      1.467945\n",
      "9      2.580149\n",
      "dtype: float64\n",
      "0    273.566404\n",
      "1      3.864704\n",
      "2      5.373703\n",
      "3     -3.140547\n",
      "4     -3.919596\n",
      "5      9.832503\n",
      "6     -7.003853\n",
      "7     -8.383682\n",
      "8      1.468218\n",
      "9      2.580700\n",
      "dtype: float64\n",
      "0    273.540080\n",
      "1      3.864607\n",
      "2      5.373502\n",
      "3     -3.139935\n",
      "4     -3.919679\n",
      "5      9.830333\n",
      "6     -7.001957\n",
      "7     -8.382470\n",
      "8      1.468490\n",
      "9      2.581251\n",
      "dtype: float64\n",
      "0    273.513760\n",
      "1      3.864510\n",
      "2      5.373301\n",
      "3     -3.139323\n",
      "4     -3.919761\n",
      "5      9.828163\n",
      "6     -7.000061\n",
      "7     -8.381257\n",
      "8      1.468763\n",
      "9      2.581801\n",
      "dtype: float64\n",
      "0    273.487445\n",
      "1      3.864413\n",
      "2      5.373099\n",
      "3     -3.138710\n",
      "4     -3.919844\n",
      "5      9.825995\n",
      "6     -6.998167\n",
      "7     -8.380045\n",
      "8      1.469035\n",
      "9      2.582351\n",
      "dtype: float64\n",
      "0    273.461136\n",
      "1      3.864316\n",
      "2      5.372898\n",
      "3     -3.138098\n",
      "4     -3.919927\n",
      "5      9.823828\n",
      "6     -6.996274\n",
      "7     -8.378833\n",
      "8      1.469307\n",
      "9      2.582900\n",
      "dtype: float64\n",
      "0    273.434832\n",
      "1      3.864219\n",
      "2      5.372697\n",
      "3     -3.137486\n",
      "4     -3.920009\n",
      "5      9.821662\n",
      "6     -6.994382\n",
      "7     -8.377622\n",
      "8      1.469578\n",
      "9      2.583449\n",
      "dtype: float64\n",
      "0    273.408532\n",
      "1      3.864122\n",
      "2      5.372495\n",
      "3     -3.136875\n",
      "4     -3.920092\n",
      "5      9.819497\n",
      "6     -6.992491\n",
      "7     -8.376410\n",
      "8      1.469850\n",
      "9      2.583998\n",
      "dtype: float64\n",
      "0    273.382238\n",
      "1      3.864025\n",
      "2      5.372294\n",
      "3     -3.136263\n",
      "4     -3.920174\n",
      "5      9.817333\n",
      "6     -6.990601\n",
      "7     -8.375199\n",
      "8      1.470121\n",
      "9      2.584547\n",
      "dtype: float64\n",
      "0    273.355949\n",
      "1      3.863928\n",
      "2      5.372093\n",
      "3     -3.135652\n",
      "4     -3.920256\n",
      "5      9.815171\n",
      "6     -6.988713\n",
      "7     -8.373988\n",
      "8      1.470392\n",
      "9      2.585095\n",
      "dtype: float64\n",
      "0    273.329664\n",
      "1      3.863831\n",
      "2      5.371891\n",
      "3     -3.135040\n",
      "4     -3.920338\n",
      "5      9.813009\n",
      "6     -6.986825\n",
      "7     -8.372778\n",
      "8      1.470662\n",
      "9      2.585643\n",
      "dtype: float64\n",
      "0    273.303385\n",
      "1      3.863734\n",
      "2      5.371690\n",
      "3     -3.134429\n",
      "4     -3.920420\n",
      "5      9.810849\n",
      "6     -6.984939\n",
      "7     -8.371568\n",
      "8      1.470933\n",
      "9      2.586190\n",
      "dtype: float64\n",
      "0    273.277111\n",
      "1      3.863637\n",
      "2      5.371488\n",
      "3     -3.133818\n",
      "4     -3.920502\n",
      "5      9.808690\n",
      "6     -6.983053\n",
      "7     -8.370358\n",
      "8      1.471203\n",
      "9      2.586737\n",
      "dtype: float64\n",
      "0    273.250842\n",
      "1      3.863540\n",
      "2      5.371287\n",
      "3     -3.133207\n",
      "4     -3.920584\n",
      "5      9.806532\n",
      "6     -6.981169\n",
      "7     -8.369148\n",
      "8      1.471473\n",
      "9      2.587284\n",
      "dtype: float64\n",
      "0    273.224578\n",
      "1      3.863443\n",
      "2      5.371085\n",
      "3     -3.132597\n",
      "4     -3.920666\n",
      "5      9.804375\n",
      "6     -6.979286\n",
      "7     -8.367938\n",
      "8      1.471742\n",
      "9      2.587830\n",
      "dtype: float64\n",
      "0    273.198319\n",
      "1      3.863346\n",
      "2      5.370883\n",
      "3     -3.131986\n",
      "4     -3.920748\n",
      "5      9.802219\n",
      "6     -6.977404\n",
      "7     -8.366729\n",
      "8      1.472012\n",
      "9      2.588377\n",
      "dtype: float64\n",
      "0    273.172066\n",
      "1      3.863249\n",
      "2      5.370682\n",
      "3     -3.131376\n",
      "4     -3.920830\n",
      "5      9.800065\n",
      "6     -6.975523\n",
      "7     -8.365520\n",
      "8      1.472281\n",
      "9      2.588922\n",
      "dtype: float64\n",
      "0    273.145817\n",
      "1      3.863152\n",
      "2      5.370480\n",
      "3     -3.130765\n",
      "4     -3.920911\n",
      "5      9.797912\n",
      "6     -6.973644\n",
      "7     -8.364311\n",
      "8      1.472550\n",
      "9      2.589468\n",
      "dtype: float64\n",
      "0    273.119573\n",
      "1      3.863055\n",
      "2      5.370278\n",
      "3     -3.130155\n",
      "4     -3.920993\n",
      "5      9.795759\n",
      "6     -6.971765\n",
      "7     -8.363103\n",
      "8      1.472818\n",
      "9      2.590013\n",
      "dtype: float64\n",
      "0    273.093334\n",
      "1      3.862958\n",
      "2      5.370076\n",
      "3     -3.129545\n",
      "4     -3.921074\n",
      "5      9.793608\n",
      "6     -6.969887\n",
      "7     -8.361895\n",
      "8      1.473087\n",
      "9      2.590558\n",
      "dtype: float64\n",
      "0    273.067101\n",
      "1      3.862861\n",
      "2      5.369875\n",
      "3     -3.128936\n",
      "4     -3.921156\n",
      "5      9.791458\n",
      "6     -6.968011\n",
      "7     -8.360687\n",
      "8      1.473355\n",
      "9      2.591102\n",
      "dtype: float64\n",
      "0    273.040872\n",
      "1      3.862764\n",
      "2      5.369673\n",
      "3     -3.128326\n",
      "4     -3.921237\n",
      "5      9.789309\n",
      "6     -6.966136\n",
      "7     -8.359479\n",
      "8      1.473623\n",
      "9      2.591646\n",
      "dtype: float64\n",
      "0    273.014648\n",
      "1      3.862667\n",
      "2      5.369471\n",
      "3     -3.127716\n",
      "4     -3.921318\n",
      "5      9.787162\n",
      "6     -6.964262\n",
      "7     -8.358272\n",
      "8      1.473890\n",
      "9      2.592190\n",
      "dtype: float64\n",
      "0    272.988430\n",
      "1      3.862570\n",
      "2      5.369269\n",
      "3     -3.127107\n",
      "4     -3.921399\n",
      "5      9.785015\n",
      "6     -6.962388\n",
      "7     -8.357065\n",
      "8      1.474158\n",
      "9      2.592734\n",
      "dtype: float64\n",
      "0    272.962216\n",
      "1      3.862472\n",
      "2      5.369067\n",
      "3     -3.126498\n",
      "4     -3.921480\n",
      "5      9.782869\n",
      "6     -6.960516\n",
      "7     -8.355858\n",
      "8      1.474425\n",
      "9      2.593277\n",
      "dtype: float64\n",
      "0    272.936008\n",
      "1      3.862375\n",
      "2      5.368865\n",
      "3     -3.125889\n",
      "4     -3.921561\n",
      "5      9.780725\n",
      "6     -6.958646\n",
      "7     -8.354651\n",
      "8      1.474692\n",
      "9      2.593820\n",
      "dtype: float64\n",
      "0    272.909804\n",
      "1      3.862278\n",
      "2      5.368663\n",
      "3     -3.125280\n",
      "4     -3.921642\n",
      "5      9.778582\n",
      "6     -6.956776\n",
      "7     -8.353445\n",
      "8      1.474958\n",
      "9      2.594362\n",
      "dtype: float64\n",
      "0    272.883606\n",
      "1      3.862181\n",
      "2      5.368461\n",
      "3     -3.124671\n",
      "4     -3.921723\n",
      "5      9.776440\n",
      "6     -6.954907\n",
      "7     -8.352239\n",
      "8      1.475225\n",
      "9      2.594905\n",
      "dtype: float64\n",
      "0    272.857413\n",
      "1      3.862084\n",
      "2      5.368259\n",
      "3     -3.124063\n",
      "4     -3.921804\n",
      "5      9.774299\n",
      "6     -6.953040\n",
      "7     -8.351033\n",
      "8      1.475491\n",
      "9      2.595446\n",
      "dtype: float64\n",
      "0    272.831224\n",
      "1      3.861987\n",
      "2      5.368057\n",
      "3     -3.123454\n",
      "4     -3.921884\n",
      "5      9.772159\n",
      "6     -6.951173\n",
      "7     -8.349828\n",
      "8      1.475757\n",
      "9      2.595988\n",
      "dtype: float64\n",
      "0    272.805041\n",
      "1      3.861890\n",
      "2      5.367854\n",
      "3     -3.122846\n",
      "4     -3.921965\n",
      "5      9.770020\n",
      "6     -6.949308\n",
      "7     -8.348622\n",
      "8      1.476022\n",
      "9      2.596529\n",
      "dtype: float64\n",
      "0    272.778863\n",
      "1      3.861793\n",
      "2      5.367652\n",
      "3     -3.122238\n",
      "4     -3.922045\n",
      "5      9.767883\n",
      "6     -6.947443\n",
      "7     -8.347417\n",
      "8      1.476288\n",
      "9      2.597070\n",
      "dtype: float64\n",
      "0    272.752690\n",
      "1      3.861695\n",
      "2      5.367450\n",
      "3     -3.121630\n",
      "4     -3.922126\n",
      "5      9.765746\n",
      "6     -6.945580\n",
      "7     -8.346213\n",
      "8      1.476553\n",
      "9      2.597611\n",
      "dtype: float64\n",
      "0    272.726521\n",
      "1      3.861598\n",
      "2      5.367248\n",
      "3     -3.121022\n",
      "4     -3.922206\n",
      "5      9.763611\n",
      "6     -6.943718\n",
      "7     -8.345008\n",
      "8      1.476818\n",
      "9      2.598151\n",
      "dtype: float64\n",
      "0    272.700358\n",
      "1      3.861501\n",
      "2      5.367045\n",
      "3     -3.120414\n",
      "4     -3.922286\n",
      "5      9.761477\n",
      "6     -6.941857\n",
      "7     -8.343804\n",
      "8      1.477083\n",
      "9      2.598691\n",
      "dtype: float64\n",
      "0    272.674200\n",
      "1      3.861404\n",
      "2      5.366843\n",
      "3     -3.119807\n",
      "4     -3.922367\n",
      "5      9.759344\n",
      "6     -6.939997\n",
      "7     -8.342600\n",
      "8      1.477347\n",
      "9      2.599230\n",
      "dtype: float64\n",
      "0    272.648047\n",
      "1      3.861307\n",
      "2      5.366641\n",
      "3     -3.119199\n",
      "4     -3.922447\n",
      "5      9.757212\n",
      "6     -6.938138\n",
      "7     -8.341396\n",
      "8      1.477611\n",
      "9      2.599769\n",
      "dtype: float64\n",
      "0    272.621899\n",
      "1      3.861210\n",
      "2      5.366438\n",
      "3     -3.118592\n",
      "4     -3.922527\n",
      "5      9.755081\n",
      "6     -6.936281\n",
      "7     -8.340193\n",
      "8      1.477875\n",
      "9      2.600308\n",
      "dtype: float64\n",
      "0    272.595756\n",
      "1      3.861112\n",
      "2      5.366236\n",
      "3     -3.117985\n",
      "4     -3.922606\n",
      "5      9.752951\n",
      "6     -6.934424\n",
      "7     -8.338990\n",
      "8      1.478139\n",
      "9      2.600847\n",
      "dtype: float64\n",
      "0    272.569618\n",
      "1      3.861015\n",
      "2      5.366033\n",
      "3     -3.117378\n",
      "4     -3.922686\n",
      "5      9.750823\n",
      "6     -6.932568\n",
      "7     -8.337787\n",
      "8      1.478402\n",
      "9      2.601385\n",
      "dtype: float64\n",
      "0    272.543484\n",
      "1      3.860918\n",
      "2      5.365831\n",
      "3     -3.116771\n",
      "4     -3.922766\n",
      "5      9.748695\n",
      "6     -6.930714\n",
      "7     -8.336584\n",
      "8      1.478665\n",
      "9      2.601923\n",
      "dtype: float64\n",
      "0    272.517356\n",
      "1      3.860821\n",
      "2      5.365628\n",
      "3     -3.116165\n",
      "4     -3.922846\n",
      "5      9.746569\n",
      "6     -6.928861\n",
      "7     -8.335382\n",
      "8      1.478928\n",
      "9      2.602461\n",
      "dtype: float64\n",
      "0    272.491233\n",
      "1      3.860724\n",
      "2      5.365426\n",
      "3     -3.115558\n",
      "4     -3.922925\n",
      "5      9.744443\n",
      "6     -6.927008\n",
      "7     -8.334180\n",
      "8      1.479191\n",
      "9      2.602998\n",
      "dtype: float64\n",
      "0    272.465115\n",
      "1      3.860626\n",
      "2      5.365223\n",
      "3     -3.114952\n",
      "4     -3.923005\n",
      "5      9.742319\n",
      "6     -6.925157\n",
      "7     -8.332978\n",
      "8      1.479454\n",
      "9      2.603535\n",
      "dtype: float64\n",
      "0    272.439002\n",
      "1      3.860529\n",
      "2      5.365020\n",
      "3     -3.114346\n",
      "4     -3.923084\n",
      "5      9.740196\n",
      "6     -6.923307\n",
      "7     -8.331777\n",
      "8      1.479716\n",
      "9      2.604071\n",
      "dtype: float64\n",
      "0    272.412894\n",
      "1      3.860432\n",
      "2      5.364818\n",
      "3     -3.113740\n",
      "4     -3.923163\n",
      "5      9.738074\n",
      "6     -6.921458\n",
      "7     -8.330575\n",
      "8      1.479978\n",
      "9      2.604608\n",
      "dtype: float64\n",
      "0    272.386791\n",
      "1      3.860335\n",
      "2      5.364615\n",
      "3     -3.113134\n",
      "4     -3.923243\n",
      "5      9.735953\n",
      "6     -6.919610\n",
      "7     -8.329374\n",
      "8      1.480240\n",
      "9      2.605144\n",
      "dtype: float64\n",
      "0    272.360693\n",
      "1      3.860238\n",
      "2      5.364412\n",
      "3     -3.112528\n",
      "4     -3.923322\n",
      "5      9.733834\n",
      "6     -6.917763\n",
      "7     -8.328174\n",
      "8      1.480501\n",
      "9      2.605679\n",
      "dtype: float64\n",
      "0    272.334600\n",
      "1      3.860140\n",
      "2      5.364209\n",
      "3     -3.111923\n",
      "4     -3.923401\n",
      "5      9.731715\n",
      "6     -6.915917\n",
      "7     -8.326973\n",
      "8      1.480762\n",
      "9      2.606215\n",
      "dtype: float64\n",
      "0    272.308512\n",
      "1      3.860043\n",
      "2      5.364006\n",
      "3     -3.111317\n",
      "4     -3.923480\n",
      "5      9.729597\n",
      "6     -6.914072\n",
      "7     -8.325773\n",
      "8      1.481023\n",
      "9      2.606750\n",
      "dtype: float64\n",
      "0    272.282429\n",
      "1      3.859946\n",
      "2      5.363804\n",
      "3     -3.110712\n",
      "4     -3.923559\n",
      "5      9.727481\n",
      "6     -6.912229\n",
      "7     -8.324573\n",
      "8      1.481284\n",
      "9      2.607284\n",
      "dtype: float64\n",
      "0    272.256351\n",
      "1      3.859849\n",
      "2      5.363601\n",
      "3     -3.110107\n",
      "4     -3.923638\n",
      "5      9.725366\n",
      "6     -6.910386\n",
      "7     -8.323373\n",
      "8      1.481545\n",
      "9      2.607819\n",
      "dtype: float64\n",
      "0    272.230278\n",
      "1      3.859751\n",
      "2      5.363398\n",
      "3     -3.109502\n",
      "4     -3.923716\n",
      "5      9.723251\n",
      "6     -6.908545\n",
      "7     -8.322174\n",
      "8      1.481805\n",
      "9      2.608353\n",
      "dtype: float64\n",
      "0    272.204210\n",
      "1      3.859654\n",
      "2      5.363195\n",
      "3     -3.108897\n",
      "4     -3.923795\n",
      "5      9.721138\n",
      "6     -6.906704\n",
      "7     -8.320975\n",
      "8      1.482065\n",
      "9      2.608886\n",
      "dtype: float64\n",
      "0    272.178147\n",
      "1      3.859557\n",
      "2      5.362992\n",
      "3     -3.108292\n",
      "4     -3.923874\n",
      "5      9.719026\n",
      "6     -6.904865\n",
      "7     -8.319776\n",
      "8      1.482325\n",
      "9      2.609420\n",
      "dtype: float64\n"
     ]
    }
   ],
   "source": [
    "L = np.arange(0,10,0.1)\n",
    "rmse_L = np.zeros(len(L))\n",
    "r2_L = np.zeros(len(L))\n",
    "\n",
    "for i in range(0,len(L)):\n",
    "    l = L[i]\n",
    "    RMSE, R2, B_ridge = ica_ridge_regression(l, X_train, y_train, X_test, y_test)\n",
    "    rmse_L[i] = RMSE\n",
    "    r2_L[i] = R2\n",
    "    print(B_ridge)"
   ]
  },
  {
   "cell_type": "code",
   "execution_count": 172,
   "metadata": {},
   "outputs": [
    {
     "name": "stderr",
     "output_type": "stream",
     "text": [
      "<>:4: SyntaxWarning: invalid escape sequence '\\l'\n",
      "<>:4: SyntaxWarning: invalid escape sequence '\\l'\n",
      "C:\\Users\\room2\\AppData\\Local\\Temp\\ipykernel_18496\\4186729406.py:4: SyntaxWarning: invalid escape sequence '\\l'\n",
      "  ax1.set_xlabel('$\\lambda$')\n"
     ]
    },
    {
     "data": {
      "text/plain": [
       "Text(0, 0.5, 'RMSE')"
      ]
     },
     "execution_count": 172,
     "metadata": {},
     "output_type": "execute_result"
    },
    {
     "data": {
      "image/png": "[encoded data removed]",
      "text/plain": [
       "<Figure size 1200x400 with 2 Axes>"
      ]
     },
     "metadata": {},
     "output_type": "display_data"
    }
   ],
   "source": [
    "fig, (ax1, ax2) = plt.subplots(1,2, figsize=(12,4))\n",
    "\n",
    "ax1.plot(L, rmse_L)\n",
    "ax1.set_xlabel('$\\lambda$')\n",
    "ax1.set_ylabel('RMSE (MWH)')\n",
    "\n",
    "ax2.plot(r2_L, rmse_L)\n",
    "ax2.set_xlabel('$R^2$')\n",
    "ax2.set_ylabel('RMSE')\n"
   ]
  },
  {
   "cell_type": "markdown",
   "metadata": {},
   "source": [
    "##### **5-fold Cross Validation**"
   ]
  },
  {
   "cell_type": "code",
   "execution_count": 173,
   "metadata": {},
   "outputs": [],
   "source": [
    "L = np.arange(0,100,0.1)\n",
    "k = 5\n",
    "\n",
    "rmse_L_k5 = np.zeros((len(L)))\n",
    "\n",
    "for i in range(0,len(L)):\n",
    "    l = L[i]\n",
    "    rmse, r2 = ica_kfold_cross_validation(k, X_train, y_train, 'ridge_regression', l)\n",
    "    rmse_L_k5[i] = sum(rmse)/k"
   ]
  },
  {
   "cell_type": "code",
   "execution_count": 174,
   "metadata": {},
   "outputs": [
    {
     "name": "stderr",
     "output_type": "stream",
     "text": [
      "<>:2: SyntaxWarning: invalid escape sequence '\\l'\n",
      "<>:2: SyntaxWarning: invalid escape sequence '\\l'\n",
      "C:\\Users\\room2\\AppData\\Local\\Temp\\ipykernel_18496\\1021591949.py:2: SyntaxWarning: invalid escape sequence '\\l'\n",
      "  plt.xlabel('$\\lambda$')\n"
     ]
    },
    {
     "data": {
      "text/plain": [
       "<matplotlib.collections.PathCollection at 0x1693268bc20>"
      ]
     },
     "execution_count": 174,
     "metadata": {},
     "output_type": "execute_result"
    },
    {
     "data": {
      "image/png": "[encoded data removed]",
      "text/plain": [
       "<Figure size 640x480 with 1 Axes>"
      ]
     },
     "metadata": {},
     "output_type": "display_data"
    }
   ],
   "source": [
    "plt.plot(L, rmse_L_k5, zorder=1)\n",
    "plt.xlabel('$\\lambda$')\n",
    "plt.ylabel('RMSE (MWH)')\n",
    "\n",
    "min_index = np.argmin(rmse_L_k5)\n",
    "lambda_min_k5 = L[min_index]\n",
    "rmse_min_k5 = rmse_L_k5[min_index]\n",
    "\n",
    "plt.scatter(lambda_min_k5, rmse_min_k5, color='red', zorder=2)"
   ]
  },
  {
   "cell_type": "markdown",
   "metadata": {},
   "source": [
    "##### **10-Fold Cross-Validation**"
   ]
  },
  {
   "cell_type": "code",
   "execution_count": 175,
   "metadata": {},
   "outputs": [],
   "source": [
    "L = np.arange(0,100,0.1)\n",
    "k = 10\n",
    "\n",
    "rmse_L_k10 = np.zeros((len(L)))\n",
    "\n",
    "for i in range(0,len(L)):\n",
    "    l = L[i]\n",
    "    rmse, r2 = ica_kfold_cross_validation(k, X_train, y_train, 'ridge_regression', l)\n",
    "    rmse_L_k10[i] = sum(rmse)/k"
   ]
  },
  {
   "cell_type": "code",
   "execution_count": 176,
   "metadata": {},
   "outputs": [
    {
     "name": "stderr",
     "output_type": "stream",
     "text": [
      "<>:8: SyntaxWarning: invalid escape sequence '\\l'\n",
      "<>:8: SyntaxWarning: invalid escape sequence '\\l'\n",
      "C:\\Users\\room2\\AppData\\Local\\Temp\\ipykernel_18496\\3245871270.py:8: SyntaxWarning: invalid escape sequence '\\l'\n",
      "  plt.xlabel('$\\lambda$')\n"
     ]
    },
    {
     "data": {
      "image/png": "[encoded data removed]",
      "text/plain": [
       "<Figure size 640x480 with 1 Axes>"
      ]
     },
     "metadata": {},
     "output_type": "display_data"
    }
   ],
   "source": [
    "plt.plot(L, rmse_L_k10, zorder=1)\n",
    "\n",
    "min_index = np.argmin(rmse_L_k10)\n",
    "lambda_min_k10 = L[min_index]\n",
    "rmse_min_k10 = rmse_L_k10[min_index]\n",
    "\n",
    "plt.scatter(lambda_min_k10, rmse_min_k10, color='red', zorder=2)\n",
    "plt.xlabel('$\\lambda$')\n",
    "plt.ylabel('RMSE')\n",
    "\n",
    "plt.show()"
   ]
  },
  {
   "cell_type": "markdown",
   "metadata": {},
   "source": [
    "#### **Lasso Regression ($l_1$ penalty)**"
   ]
  },
  {
   "cell_type": "markdown",
   "metadata": {},
   "source": [
    "(Jamie et al. 2013) The lasso coefficients $\\beta_{\\lambda}^L$, minimize the quantity\n",
    "\n",
    "$\\displaystyle \\sum_{i=1}^{n} \\left( y_i - \\beta_0 - \\sum_{j=1}^{p} \\beta_j x_{ij} \\right)^2 + \\lambda \\sum_{j=1}^p |\\beta_j| = RSS + \\lambda \\sum_{j=1}^p |\\beta_j|$"
   ]
  },
  {
   "cell_type": "markdown",
   "metadata": {},
   "source": [
    "(Hastie et al. 2017) We can write the residual sum of squares as\n",
    "\n",
    "$RSS(\\beta) = (\\mathbf{y} - \\mathbf{X}\\beta)^T(\\mathbf{y} - \\mathbf{X}\\beta)$\n",
    "\n",
    "Differentiating with respect to $\\beta$ we obtain\n",
    "\n",
    "$\\cfrac{\\partial RSS}{\\partial \\beta} = -2\\mathbf{X}^T(\\mathbf{y} - \\mathbf{X}\\beta)$"
   ]
  },
  {
   "cell_type": "markdown",
   "metadata": {},
   "source": [
    "For the absolute value function $f(\\beta) = |\\beta|$, we have\n",
    "\n",
    "$\\partial f(\\beta) =\n",
    "\\begin{cases}\n",
    "{+1} & \\text{if} \\beta > 0\\\\\n",
    "{-1} & \\text{if} \\beta < 0\\\\\n",
    "[-1,+1] & \\text{if} \\beta = 0.\n",
    "\\end{cases}$"
   ]
  },
  {
   "cell_type": "code",
   "execution_count": 177,
   "metadata": {},
   "outputs": [],
   "source": [
    "from scipy.optimize import minimize"
   ]
  },
  {
   "cell_type": "code",
   "execution_count": 178,
   "metadata": {},
   "outputs": [
    {
     "data": {
      "text/plain": [
       "(1036, 10)"
      ]
     },
     "execution_count": 178,
     "metadata": {},
     "output_type": "execute_result"
    }
   ],
   "source": [
    "X_train.shape"
   ]
  },
  {
   "cell_type": "code",
   "execution_count": 179,
   "metadata": {},
   "outputs": [
    {
     "name": "stderr",
     "output_type": "stream",
     "text": [
      "C:\\Users\\room2\\AppData\\Local\\Temp\\ipykernel_18496\\3228864536.py:2: OptimizeWarning: Unknown solver options: xatol\n",
      "  res = minimize(lasso_regression, x0, args=(X_train, y_train, 1), options={'xatol': 1e-8, 'disp':False})\n"
     ]
    },
    {
     "name": "stdout",
     "output_type": "stream",
     "text": [
      "[274.78287524   3.86881782   5.3827654   -3.16841853  -3.91490183\n",
      "   9.93170682  -7.0912611   -8.43984655   1.45474787   2.55438952]\n"
     ]
    }
   ],
   "source": [
    "x0 = np.ones(X_train.shape[1])\n",
    "res = minimize(lasso_regression, x0, args=(X_train, y_train, 1), options={'xatol': 1e-8, 'disp':False})\n",
    "B_lasso = res.x\n",
    "print(B_lasso)"
   ]
  },
  {
   "cell_type": "code",
   "execution_count": 180,
   "metadata": {},
   "outputs": [
    {
     "name": "stdout",
     "output_type": "stream",
     "text": [
      "41.38186399912204\n",
      "0.20004254540740596\n"
     ]
    }
   ],
   "source": [
    "rmse_lasso, r2_lasso = ica_lasso_regression(1, X_train, y_train, X_test, y_test, 1)\n",
    "print(rmse_lasso)\n",
    "print(r2_lasso)"
   ]
  },
  {
   "cell_type": "markdown",
   "metadata": {},
   "source": [
    "##### **5-Fold Cross-Validation**"
   ]
  },
  {
   "cell_type": "code",
   "execution_count": 181,
   "metadata": {},
   "outputs": [],
   "source": [
    "L = np.arange(0,100,1)\n",
    "k = 5\n",
    "\n",
    "rmse_L_k5 = np.zeros((len(L),1))\n",
    "\n",
    "B0 = np.zeros(X_train.shape[1])\n",
    "\n",
    "for i in range(0,len(L)):\n",
    "    l = L[i]\n",
    "    rmse, r2 = ica_kfold_cross_validation(k, X_train, y_train, 'lasso_regression', l, B0)\n",
    "    rmse_L_k5[i] = sum(rmse)/k"
   ]
  },
  {
   "cell_type": "code",
   "execution_count": 182,
   "metadata": {},
   "outputs": [
    {
     "name": "stderr",
     "output_type": "stream",
     "text": [
      "<>:8: SyntaxWarning: invalid escape sequence '\\l'\n",
      "<>:8: SyntaxWarning: invalid escape sequence '\\l'\n",
      "C:\\Users\\room2\\AppData\\Local\\Temp\\ipykernel_18496\\236146306.py:8: SyntaxWarning: invalid escape sequence '\\l'\n",
      "  plt.xlabel('$\\lambda$')\n"
     ]
    },
    {
     "data": {
      "image/png": "[encoded data removed]",
      "text/plain": [
       "<Figure size 640x480 with 1 Axes>"
      ]
     },
     "metadata": {},
     "output_type": "display_data"
    }
   ],
   "source": [
    "plt.plot(L, rmse_L_k5, zorder=1)\n",
    "\n",
    "min_index = np.argmin(rmse_L_k5)\n",
    "lambda_min_k5 = L[min_index]\n",
    "rmse_min_k5 = rmse_L_k5[min_index]\n",
    "\n",
    "plt.scatter(lambda_min_k5, rmse_min_k5, color='red', zorder=2)\n",
    "plt.xlabel('$\\lambda$')\n",
    "plt.ylabel('RMSE')\n",
    "\n",
    "plt.show()"
   ]
  },
  {
   "cell_type": "markdown",
   "metadata": {},
   "source": [
    "##### **10-Fold Cross-Validation**"
   ]
  },
  {
   "cell_type": "code",
   "execution_count": 183,
   "metadata": {},
   "outputs": [],
   "source": [
    "L = np.arange(0,100,1)\n",
    "k = 10\n",
    "\n",
    "rmse_L_k10 = np.zeros((len(L),1))\n",
    "\n",
    "B0 = np.zeros(X_train.shape[1])\n",
    "\n",
    "for i in range(0,len(L)):\n",
    "    l = L[i]\n",
    "    rmse, r2 = ica_kfold_cross_validation(k, X_train, y_train, 'lasso_regression', l, B0)\n",
    "    rmse_L_k10[i] = sum(rmse)/k"
   ]
  },
  {
   "cell_type": "code",
   "execution_count": 184,
   "metadata": {},
   "outputs": [
    {
     "name": "stderr",
     "output_type": "stream",
     "text": [
      "<>:8: SyntaxWarning: invalid escape sequence '\\l'\n",
      "<>:8: SyntaxWarning: invalid escape sequence '\\l'\n",
      "C:\\Users\\room2\\AppData\\Local\\Temp\\ipykernel_18496\\3245871270.py:8: SyntaxWarning: invalid escape sequence '\\l'\n",
      "  plt.xlabel('$\\lambda$')\n"
     ]
    },
    {
     "data": {
      "image/png": "[encoded data removed]",
      "text/plain": [
       "<Figure size 640x480 with 1 Axes>"
      ]
     },
     "metadata": {},
     "output_type": "display_data"
    }
   ],
   "source": [
    "plt.plot(L, rmse_L_k10, zorder=1)\n",
    "\n",
    "min_index = np.argmin(rmse_L_k10)\n",
    "lambda_min_k10 = L[min_index]\n",
    "rmse_min_k10 = rmse_L_k10[min_index]\n",
    "\n",
    "plt.scatter(lambda_min_k10, rmse_min_k10, color='red', zorder=2)\n",
    "plt.xlabel('$\\lambda$')\n",
    "plt.ylabel('RMSE')\n",
    "\n",
    "plt.show()"
   ]
  },
  {
   "cell_type": "markdown",
   "metadata": {},
   "source": [
    "#### **From libraries**"
   ]
  },
  {
   "cell_type": "markdown",
   "metadata": {},
   "source": [
    "#### **Ridge Regression ($l_2$ penalty)**"
   ]
  },
  {
   "cell_type": "code",
   "execution_count": 185,
   "metadata": {},
   "outputs": [],
   "source": [
    "from sklearn.linear_model import Ridge"
   ]
  },
  {
   "cell_type": "code",
   "execution_count": 186,
   "metadata": {},
   "outputs": [],
   "source": [
    "ridgereg = Ridge(alpha=1.0)\n",
    "ridgereg.fit(X_train, y_train)\n",
    "y_pred_ridge = ridgereg.predict(X_test)\n"
   ]
  },
  {
   "cell_type": "code",
   "execution_count": 187,
   "metadata": {},
   "outputs": [
    {
     "data": {
      "text/plain": [
       "0.20002525732749254"
      ]
     },
     "execution_count": 187,
     "metadata": {},
     "output_type": "execute_result"
    }
   ],
   "source": [
    "calc_rmse(y_test, y_pred_ridge)\n",
    "calc_r2(y_test, y_pred_ridge)"
   ]
  },
  {
   "cell_type": "code",
   "execution_count": 188,
   "metadata": {},
   "outputs": [],
   "source": [
    "L = np.arange(0,10,0.1)\n",
    "rmse_L = np.zeros(len(L))\n",
    "r2_L = np.zeros(len(L))\n",
    "\n",
    "for i in range(0,len(L)):\n",
    "    l = L[i]\n",
    "    \n",
    "    ridgereg = Ridge(alpha=l)\n",
    "    ridgereg.fit(X_train, y_train)\n",
    "    y_pred_ridge = ridgereg.predict(X_test)\n",
    "    \n",
    "    rmse_L[i] = calc_rmse(y_test, y_pred_ridge)\n",
    "    r2_L[i] = calc_r2(y_test, y_pred_ridge)"
   ]
  },
  {
   "cell_type": "code",
   "execution_count": 189,
   "metadata": {},
   "outputs": [
    {
     "name": "stderr",
     "output_type": "stream",
     "text": [
      "<>:4: SyntaxWarning: invalid escape sequence '\\l'\n",
      "<>:4: SyntaxWarning: invalid escape sequence '\\l'\n",
      "C:\\Users\\room2\\AppData\\Local\\Temp\\ipykernel_18496\\1516381242.py:4: SyntaxWarning: invalid escape sequence '\\l'\n",
      "  ax1.set_xlabel('$\\lambda$')\n"
     ]
    },
    {
     "data": {
      "text/plain": [
       "Text(0, 0.5, 'RMSE')"
      ]
     },
     "execution_count": 189,
     "metadata": {},
     "output_type": "execute_result"
    },
    {
     "data": {
      "image/png": "[encoded data removed]",
      "text/plain": [
       "<Figure size 1200x400 with 2 Axes>"
      ]
     },
     "metadata": {},
     "output_type": "display_data"
    }
   ],
   "source": [
    "fig, (ax1, ax2) = plt.subplots(1,2, figsize=(12,4))\n",
    "\n",
    "ax1.plot(L, rmse_L)\n",
    "ax1.set_xlabel('$\\lambda$')\n",
    "ax1.set_ylabel('RMSE')\n",
    "\n",
    "ax2.plot(r2_L, rmse_L)\n",
    "ax2.set_xlabel('$R^2$')\n",
    "ax2.set_ylabel('RMSE')"
   ]
  },
  {
   "cell_type": "markdown",
   "metadata": {},
   "source": [
    "##### **5-Fold Cross-Validation**"
   ]
  },
  {
   "cell_type": "code",
   "execution_count": 190,
   "metadata": {},
   "outputs": [],
   "source": [
    "lm = LinearRegression()\n",
    "\n",
    "L = np.arange(0,100,0.1)\n",
    "k = 5\n",
    "\n",
    "rmse_L_k5 = np.zeros((len(L)))\n",
    "\n",
    "for i in range(0,len(L)):\n",
    "    l = L[i]\n",
    "\n",
    "    ridgereg = Ridge(alpha=l)\n",
    "\n",
    "    rmse = cross_val_score(ridgereg, X_train, y_train, scoring='neg_root_mean_squared_error', cv=k)\n",
    "    rmse_L_k5[i] = sum(rmse)/k"
   ]
  },
  {
   "cell_type": "code",
   "execution_count": 191,
   "metadata": {},
   "outputs": [
    {
     "name": "stderr",
     "output_type": "stream",
     "text": [
      "<>:2: SyntaxWarning: invalid escape sequence '\\l'\n",
      "<>:2: SyntaxWarning: invalid escape sequence '\\l'\n",
      "C:\\Users\\room2\\AppData\\Local\\Temp\\ipykernel_18496\\2351975880.py:2: SyntaxWarning: invalid escape sequence '\\l'\n",
      "  plt.xlabel('$\\lambda$')\n"
     ]
    },
    {
     "data": {
      "text/plain": [
       "<matplotlib.collections.PathCollection at 0x169326a9c70>"
      ]
     },
     "execution_count": 191,
     "metadata": {},
     "output_type": "execute_result"
    },
    {
     "data": {
      "image/png": "[encoded data removed]",
      "text/plain": [
       "<Figure size 640x480 with 1 Axes>"
      ]
     },
     "metadata": {},
     "output_type": "display_data"
    }
   ],
   "source": [
    "plt.plot(L, -rmse_L_k5, zorder=1)\n",
    "plt.xlabel('$\\lambda$')\n",
    "plt.ylabel('RMSE')\n",
    "\n",
    "min_index = np.argmin(-rmse_L_k5)\n",
    "lambda_min_k5 = L[min_index]\n",
    "rmse_min_k5 = rmse_L_k5[min_index]\n",
    "\n",
    "plt.scatter(lambda_min_k5, -rmse_min_k5, color='red', zorder=2)"
   ]
  },
  {
   "cell_type": "markdown",
   "metadata": {},
   "source": [
    "##### **10-Fold Cross-Validation**"
   ]
  },
  {
   "cell_type": "code",
   "execution_count": 192,
   "metadata": {},
   "outputs": [],
   "source": [
    "lm = LinearRegression()\n",
    "\n",
    "L = np.arange(0,100,0.1)\n",
    "k = 10\n",
    "\n",
    "rmse_L_k10 = np.zeros((len(L)))\n",
    "\n",
    "for i in range(0,len(L)):\n",
    "    l = L[i]\n",
    "\n",
    "    ridgereg = Ridge(alpha=l)\n",
    "\n",
    "    rmse = cross_val_score(ridgereg, X_train, y_train, scoring='neg_root_mean_squared_error', cv=10)\n",
    "    rmse_L_k10[i] = sum(rmse)/k"
   ]
  },
  {
   "cell_type": "code",
   "execution_count": 193,
   "metadata": {},
   "outputs": [
    {
     "name": "stderr",
     "output_type": "stream",
     "text": [
      "<>:2: SyntaxWarning: invalid escape sequence '\\l'\n",
      "<>:2: SyntaxWarning: invalid escape sequence '\\l'\n",
      "C:\\Users\\room2\\AppData\\Local\\Temp\\ipykernel_18496\\1264941061.py:2: SyntaxWarning: invalid escape sequence '\\l'\n",
      "  plt.xlabel('$\\lambda$')\n"
     ]
    },
    {
     "data": {
      "text/plain": [
       "<matplotlib.collections.PathCollection at 0x169328c4e60>"
      ]
     },
     "execution_count": 193,
     "metadata": {},
     "output_type": "execute_result"
    },
    {
     "data": {
      "image/png": "[encoded data removed]",
      "text/plain": [
       "<Figure size 640x480 with 1 Axes>"
      ]
     },
     "metadata": {},
     "output_type": "display_data"
    }
   ],
   "source": [
    "plt.plot(L, -rmse_L_k10, zorder=1)\n",
    "plt.xlabel('$\\lambda$')\n",
    "plt.ylabel('RMSE')\n",
    "\n",
    "min_index = np.argmin(-rmse_L_k10)\n",
    "lambda_min_k10 = L[min_index]\n",
    "rmse_min_k10 = rmse_L_k10[min_index]\n",
    "\n",
    "plt.scatter(lambda_min_k10, -rmse_min_k10, color='red', zorder=2)"
   ]
  },
  {
   "cell_type": "markdown",
   "metadata": {},
   "source": [
    "#### **Lasso Regression ($l_2$ penalty)**"
   ]
  },
  {
   "cell_type": "code",
   "execution_count": 194,
   "metadata": {},
   "outputs": [],
   "source": [
    "from sklearn.linear_model import Lasso"
   ]
  },
  {
   "cell_type": "code",
   "execution_count": 195,
   "metadata": {},
   "outputs": [],
   "source": [
    "lassoreg = Lasso(alpha=1.0)\n",
    "lassoreg.fit(X_train, y_train)\n",
    "y_pred_lasso = lassoreg.predict(X_test)\n"
   ]
  },
  {
   "cell_type": "code",
   "execution_count": 196,
   "metadata": {},
   "outputs": [
    {
     "name": "stdout",
     "output_type": "stream",
     "text": [
      "0.18707394771128305\n"
     ]
    }
   ],
   "source": [
    "rmse_lasso = calc_rmse(y_test, y_pred_lasso)\n",
    "r2_lasso = calc_r2(y_test, y_pred_lasso)\n",
    "\n",
    "print(r2_lasso)"
   ]
  },
  {
   "cell_type": "code",
   "execution_count": 197,
   "metadata": {},
   "outputs": [
    {
     "name": "stderr",
     "output_type": "stream",
     "text": [
      "c:\\Users\\room2\\AppData\\Local\\Programs\\Python\\Python312\\Lib\\site-packages\\sklearn\\base.py:1473: UserWarning: With alpha=0, this algorithm does not converge well. You are advised to use the LinearRegression estimator\n",
      "  return fit_method(estimator, *args, **kwargs)\n",
      "c:\\Users\\room2\\AppData\\Local\\Programs\\Python\\Python312\\Lib\\site-packages\\sklearn\\linear_model\\_coordinate_descent.py:697: UserWarning: Coordinate descent with no regularization may lead to unexpected results and is discouraged.\n",
      "  model = cd_fast.enet_coordinate_descent(\n",
      "c:\\Users\\room2\\AppData\\Local\\Programs\\Python\\Python312\\Lib\\site-packages\\sklearn\\linear_model\\_coordinate_descent.py:697: ConvergenceWarning: Objective did not converge. You might want to increase the number of iterations, check the scale of the features or consider increasing regularisation. Duality gap: 8.734e+05, tolerance: 2.011e+02 Linear regression models with null weight for the l1 regularization term are more efficiently fitted using one of the solvers implemented in sklearn.linear_model.Ridge/RidgeCV instead.\n",
      "  model = cd_fast.enet_coordinate_descent(\n"
     ]
    }
   ],
   "source": [
    "L = np.arange(0,10,0.1)\n",
    "rmse_L = np.zeros(len(L))\n",
    "r2_L = np.zeros(len(L))\n",
    "\n",
    "for i in range(0,len(L)):\n",
    "    l = L[i]\n",
    "    \n",
    "    lassoreg = Lasso(alpha=l)\n",
    "    lassoreg.fit(X_train, y_train)\n",
    "    y_pred_lasso = lassoreg.predict(X_test)\n",
    "    \n",
    "    rmse_L[i] = calc_rmse(y_test, y_pred_lasso)\n",
    "    r2_L[i] = calc_r2(y_test, y_pred_lasso)"
   ]
  },
  {
   "cell_type": "code",
   "execution_count": 198,
   "metadata": {},
   "outputs": [
    {
     "name": "stderr",
     "output_type": "stream",
     "text": [
      "<>:4: SyntaxWarning: invalid escape sequence '\\l'\n",
      "<>:4: SyntaxWarning: invalid escape sequence '\\l'\n",
      "C:\\Users\\room2\\AppData\\Local\\Temp\\ipykernel_18496\\1516381242.py:4: SyntaxWarning: invalid escape sequence '\\l'\n",
      "  ax1.set_xlabel('$\\lambda$')\n"
     ]
    },
    {
     "data": {
      "text/plain": [
       "Text(0, 0.5, 'RMSE')"
      ]
     },
     "execution_count": 198,
     "metadata": {},
     "output_type": "execute_result"
    },
    {
     "data": {
      "image/png": "[encoded data removed]",
      "text/plain": [
       "<Figure size 1200x400 with 2 Axes>"
      ]
     },
     "metadata": {},
     "output_type": "display_data"
    }
   ],
   "source": [
    "fig, (ax1, ax2) = plt.subplots(1,2, figsize=(12,4))\n",
    "\n",
    "ax1.plot(L, rmse_L)\n",
    "ax1.set_xlabel('$\\lambda$')\n",
    "ax1.set_ylabel('RMSE')\n",
    "\n",
    "ax2.plot(r2_L, rmse_L)\n",
    "ax2.set_xlabel('$R^2$')\n",
    "ax2.set_ylabel('RMSE')"
   ]
  },
  {
   "cell_type": "markdown",
   "metadata": {},
   "source": [
    "### **Task 3: PCR and PLS Regression**"
   ]
  },
  {
   "cell_type": "markdown",
   "metadata": {},
   "source": [
    "#### Principal Components Analysis"
   ]
  },
  {
   "cell_type": "markdown",
   "metadata": {},
   "source": [
    "Covariance Matrix"
   ]
  },
  {
   "cell_type": "code",
   "execution_count": 267,
   "metadata": {},
   "outputs": [],
   "source": [
    "X_train_for_pca = X_train.copy()\n",
    "X_test_for_pca = X_test.copy()\n",
    "\n",
    "X_train_for_pca = X_train_for_pca.drop(['intercept'], axis=1)\n",
    "X_test_for_pca = X_test_for_pca.drop(['intercept'], axis=1)"
   ]
  },
  {
   "cell_type": "code",
   "execution_count": 268,
   "metadata": {},
   "outputs": [],
   "source": [
    "cov_matrix = np.dot(X_train_for_pca.T, X_train_for_pca)/len(X_train_for_pca)\n",
    "cov_eigenvalues, cov_eigenvectors = np.linalg.eig(cov_matrix)"
   ]
  },
  {
   "cell_type": "code",
   "execution_count": 269,
   "metadata": {},
   "outputs": [],
   "source": [
    "sorted_indices = np.argsort(cov_eigenvalues)[::-1]\n",
    "eigenvalues_sorted = cov_eigenvalues[sorted_indices]\n",
    "eigenvectors_sorted = cov_eigenvectors[:, sorted_indices]\n",
    "\n",
    "explained_variance = (eigenvalues_sorted/sum(eigenvalues_sorted))\n",
    "explained_variance_cumulative = np.cumsum(explained_variance)"
   ]
  },
  {
   "cell_type": "code",
   "execution_count": 270,
   "metadata": {},
   "outputs": [
    {
     "name": "stdout",
     "output_type": "stream",
     "text": [
      "[0.27380512 0.46404704 0.62688722 0.72797025 0.82092572 0.8794997\n",
      " 0.92785197 0.97073536 1.        ]\n"
     ]
    }
   ],
   "source": [
    "print(explained_variance_cumulative)"
   ]
  },
  {
   "cell_type": "code",
   "execution_count": 271,
   "metadata": {},
   "outputs": [
    {
     "data": {
      "image/png": "[encoded data removed]",
      "text/plain": [
       "<Figure size 640x480 with 1 Axes>"
      ]
     },
     "metadata": {},
     "output_type": "display_data"
    }
   ],
   "source": [
    "plt.plot(range(1,len(explained_variance_cumulative)+1), explained_variance*100, marker='s', alpha=0.7, label='individual variance')\n",
    "plt.plot(range(1,len(explained_variance_cumulative)+1), explained_variance_cumulative*100, marker='o', alpha=0.7, label='cumulative variance')\n",
    "plt.xlabel('number of PCs')\n",
    "plt.ylabel('explained variance (%)')\n",
    "plt.legend()\n",
    "plt.show()"
   ]
  },
  {
   "cell_type": "code",
   "execution_count": 322,
   "metadata": {},
   "outputs": [],
   "source": [
    "k = 9\n",
    "V_k = eigenvectors_sorted[:, :k]\n",
    "X_train_pca = np.dot(X_train_for_pca, V_k)\n",
    "X_test_pca = np.dot(X_test_for_pca, V_k)"
   ]
  },
  {
   "cell_type": "code",
   "execution_count": 323,
   "metadata": {},
   "outputs": [],
   "source": [
    "X_train_pca = np.column_stack((np.ones(X_train_pca.shape[0]), X_train_pca))\n",
    "X_test_pca = np.column_stack((np.ones(X_test_pca.shape[0]), X_test_pca))\n"
   ]
  },
  {
   "cell_type": "code",
   "execution_count": 324,
   "metadata": {},
   "outputs": [],
   "source": [
    "rmse_pcr, r2_pcr = ica_linear_regression(X_train_pca, y_train, X_test_pca, y_test)"
   ]
  },
  {
   "cell_type": "code",
   "execution_count": 325,
   "metadata": {},
   "outputs": [
    {
     "name": "stdout",
     "output_type": "stream",
     "text": [
      "41.38177389113858\n",
      "0.20004602917868386\n"
     ]
    }
   ],
   "source": [
    "print(rmse_pcr)\n",
    "print(r2_pcr)"
   ]
  },
  {
   "cell_type": "markdown",
   "metadata": {},
   "source": [
    "#### Partial Least Squares"
   ]
  },
  {
   "cell_type": "code",
   "execution_count": null,
   "metadata": {},
   "outputs": [],
   "source": []
  },
  {
   "cell_type": "markdown",
   "metadata": {},
   "source": [
    "### **Task 4: Neural Network for Regression**"
   ]
  },
  {
   "cell_type": "markdown",
   "metadata": {},
   "source": []
  },
  {
   "cell_type": "markdown",
   "metadata": {},
   "source": [
    "##### **References**\n",
    "\n",
    "James, Gareth, et al. *An introduction to statistical learning*. Vol. 112. New York: springer, 2013.\n",
    "\n",
    "Hastie, Trevor, Robert Tibshirani, and Jerome Friedman. *The elements of statistical learning: data mining, inference, and prediction*. (2017).\n",
    "\n",
    "Hastie, Trevor, Robert Tibshirani, and Martin Wainwright. \"Statistical learning with sparsity.\" Monographs on statistics and applied probability 143.143 (2015): 8."
   ]
  },
  {
   "cell_type": "code",
   "execution_count": null,
   "metadata": {},
   "outputs": [],
   "source": []
  },
  {
   "cell_type": "code",
   "execution_count": null,
   "metadata": {},
   "outputs": [],
   "source": []
  },
  {
   "cell_type": "markdown",
   "metadata": {},
   "source": []
  }
 ],
 "metadata": {
  "kernelspec": {
   "display_name": "Python 3",
   "language": "python",
   "name": "python3"
  },
  "language_info": {
   "codemirror_mode": {
    "name": "ipython",
    "version": 3
   },
   "file_extension": ".py",
   "mimetype": "text/x-python",
   "name": "python",
   "nbconvert_exporter": "python",
   "pygments_lexer": "ipython3",
   "version": "3.12.2"
  }
 },
 "nbformat": 4,
 "nbformat_minor": 2
}
