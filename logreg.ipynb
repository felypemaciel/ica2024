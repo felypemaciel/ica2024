{
 "cells": [
  {
   "cell_type": "code",
   "execution_count": 1,
   "metadata": {},
   "outputs": [
    {
     "name": "stdout",
     "output_type": "stream",
     "text": [
      "Coefficients: [[ 0.20667138 -0.01816133]]\n",
      "Intercept: [-0.22483271]\n"
     ]
    }
   ],
   "source": [
    "import numpy as np\n",
    "from sklearn.linear_model import LogisticRegression\n",
    "\n",
    "# Example data (features X and target y)\n",
    "# X: Feature matrix (shape: n_samples x n_features)\n",
    "# y: Target variable (binary)\n",
    "\n",
    "# Example input data:\n",
    "X = np.array([[1, 2], [2, 3], [3, 4], [4, 5]])  # Replace with your actual data\n",
    "y = np.array([0, 1, 0, 1])  # Replace with your actual binary target values\n",
    "\n",
    "# Initialize the LogisticRegression model\n",
    "model = LogisticRegression(solver='liblinear')  # Using 'liblinear' solver for small datasets\n",
    "\n",
    "# Fit the model to the data\n",
    "model.fit(X, y)\n",
    "\n",
    "# Obtain the model parameters (coefficients)\n",
    "coefficients = model.coef_\n",
    "intercept = model.intercept_\n",
    "\n",
    "print(\"Coefficients:\", coefficients)\n",
    "print(\"Intercept:\", intercept)\n"
   ]
  },
  {
   "cell_type": "code",
   "execution_count": null,
   "metadata": {},
   "outputs": [],
   "source": [
    "labels = np.array(np.unique(np.concatenate((y_train, y_test))))\n",
    "\n",
    "model = LR(multi_class='multinomial', solver='lbfgs', max_iter=200)\n",
    "model.fit(X_train, y_train)\n",
    "        \n",
    "betas = model.coef_\n",
    "intercept = model.intercept_\n",
    "\n",
    "coefficients = np.hstack((intercept.reshape(3,1), betas))\n",
    "\n",
    "prob = np.zeros((X_test.shape[0], coefficients.shape[0]))\n",
    "\n",
    "for i in range(labels.shape[0]):\n",
    "    for j in  range(X_test.shape[0]):\n",
    "        prob_num = (math.exp(coefficients[i,0] + coefficients[i,1:] @ X_test.iloc[j]))\n",
    "        prob_den = 0\n",
    "                \n",
    "        for k in range(labels.shape[0]):\n",
    "            prob_den = prob_den + (math.exp(coefficients[k,0] + coefficients[k,1:] @ X_test.iloc[j]))\n",
    "                \n",
    "        prob[j,i] = prob_num/prob_den\n",
    "        \n",
    "    y_pred_idx = np.argmax(prob, axis=1)\n",
    "        \n",
    "    y_pred = np.array(labels)[y_pred_idx]"
   ]
  }
 ],
 "metadata": {
  "kernelspec": {
   "display_name": "Python 3",
   "language": "python",
   "name": "python3"
  },
  "language_info": {
   "codemirror_mode": {
    "name": "ipython",
    "version": 3
   },
   "file_extension": ".py",
   "mimetype": "text/x-python",
   "name": "python",
   "nbconvert_exporter": "python",
   "pygments_lexer": "ipython3",
   "version": "3.12.2"
  }
 },
 "nbformat": 4,
 "nbformat_minor": 2
}
